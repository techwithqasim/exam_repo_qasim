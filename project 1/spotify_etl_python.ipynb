{
 "cells": [
  {
   "cell_type": "markdown",
   "metadata": {},
   "source": [
    "## Agenda\n",
    "- Extract the data from spotify api (my_playlist)\n",
    "\n",
    "> note: this playlist will update every week."
   ]
  },
  {
   "cell_type": "markdown",
   "metadata": {},
   "source": [
    "External lib <br>\n",
    "- pip install spotipy\n",
    "- pip install pandas"
   ]
  },
  {
   "cell_type": "code",
   "execution_count": 2,
   "metadata": {},
   "outputs": [
    {
     "name": "stdout",
     "output_type": "stream",
     "text": [
      "Defaulting to user installation because normal site-packages is not writeable\n",
      "Requirement already satisfied: spotipy in c:\\users\\muham\\appdata\\roaming\\python\\python311\\site-packages (2.25.0)\n",
      "Requirement already satisfied: redis>=3.5.3 in c:\\users\\muham\\appdata\\roaming\\python\\python311\\site-packages (from spotipy) (5.2.1)\n",
      "Requirement already satisfied: requests>=2.25.0 in c:\\anaconda3\\lib\\site-packages (from spotipy) (2.32.3)\n",
      "Requirement already satisfied: urllib3>=1.26.0 in c:\\anaconda3\\lib\\site-packages (from spotipy) (2.0.7)\n",
      "Requirement already satisfied: charset-normalizer<4,>=2 in c:\\anaconda3\\lib\\site-packages (from requests>=2.25.0->spotipy) (2.0.4)\n",
      "Requirement already satisfied: idna<4,>=2.5 in c:\\anaconda3\\lib\\site-packages (from requests>=2.25.0->spotipy) (3.4)\n",
      "Requirement already satisfied: certifi>=2017.4.17 in c:\\anaconda3\\lib\\site-packages (from requests>=2.25.0->spotipy) (2024.12.14)\n"
     ]
    }
   ],
   "source": [
    "!pip install spotipy"
   ]
  },
  {
   "cell_type": "code",
   "execution_count": 3,
   "metadata": {},
   "outputs": [
    {
     "name": "stdout",
     "output_type": "stream",
     "text": [
      "Defaulting to user installation because normal site-packages is not writeable\n",
      "Requirement already satisfied: pandas in c:\\users\\muham\\appdata\\roaming\\python\\python311\\site-packages (2.2.3)\n",
      "Requirement already satisfied: numpy>=1.23.2 in c:\\anaconda3\\lib\\site-packages (from pandas) (1.26.4)\n",
      "Requirement already satisfied: python-dateutil>=2.8.2 in c:\\anaconda3\\lib\\site-packages (from pandas) (2.8.2)\n",
      "Requirement already satisfied: pytz>=2020.1 in c:\\anaconda3\\lib\\site-packages (from pandas) (2023.3.post1)\n",
      "Requirement already satisfied: tzdata>=2022.7 in c:\\anaconda3\\lib\\site-packages (from pandas) (2023.3)\n",
      "Requirement already satisfied: six>=1.5 in c:\\anaconda3\\lib\\site-packages (from python-dateutil>=2.8.2->pandas) (1.16.0)\n"
     ]
    }
   ],
   "source": [
    "!pip install pandas"
   ]
  },
  {
   "cell_type": "code",
   "execution_count": 4,
   "metadata": {},
   "outputs": [],
   "source": [
    "import spotipy\n",
    "from spotipy.oauth2 import SpotifyClientCredentials\n",
    "import pandas as pd\n",
    "import json\n",
    "import os"
   ]
  },
  {
   "cell_type": "code",
   "execution_count": null,
   "metadata": {},
   "outputs": [],
   "source": [
    "client_credentials_manager = SpotifyClientCredentials(client_id=\"os.environ['client_id']\", client_secret=os.environ['client_secret'])"
   ]
  },
  {
   "cell_type": "code",
   "execution_count": 7,
   "metadata": {},
   "outputs": [],
   "source": [
    "sp = spotipy.Spotify(client_credentials_manager = client_credentials_manager)"
   ]
  },
  {
   "cell_type": "code",
   "execution_count": 8,
   "metadata": {},
   "outputs": [],
   "source": [
    "playlist_link='https://open.spotify.com/playlist/XXXXXXXXXXXXXXXXXXXX'"
   ]
  },
  {
   "cell_type": "code",
   "execution_count": 9,
   "metadata": {},
   "outputs": [
    {
     "name": "stdout",
     "output_type": "stream",
     "text": [
      "6iPkekWWYMBhLCFUDyliS8\n"
     ]
    }
   ],
   "source": [
    "playlist_URI=playlist_link.split(\"/\")[-1]\n",
    "print(playlist_URI)"
   ]
  },
  {
   "cell_type": "code",
   "execution_count": 10,
   "metadata": {},
   "outputs": [
    {
     "name": "stdout",
     "output_type": "stream",
     "text": [
      "{'href': 'https://api.spotify.com/v1/playlists/6iPkekWWYMBhLCFUDyliS8/tracks?offset=0&limit=100&additional_types=track', 'items': [{'added_at': '2025-01-05T23:45:15Z', 'added_by': {'external_urls': {'spotify': 'https://open.spotify.com/user/31rfk2k7piikvhbd3z5v77jocmjm'}, 'href': 'https://api.spotify.com/v1/users/31rfk2k7piikvhbd3z5v77jocmjm', 'id': '31rfk2k7piikvhbd3z5v77jocmjm', 'type': 'user', 'uri': 'spotify:user:31rfk2k7piikvhbd3z5v77jocmjm'}, 'is_local': False, 'primary_color': None, 'track': {'preview_url': None, 'available_markets': ['AR', 'AU', 'AT', 'BE', 'BO', 'BR', 'BG', 'CA', 'CL', 'CO', 'CR', 'CY', 'CZ', 'DK', 'DO', 'DE', 'EC', 'EE', 'SV', 'FI', 'FR', 'GR', 'GT', 'HN', 'HK', 'HU', 'IS', 'IE', 'IT', 'LV', 'LT', 'LU', 'MY', 'MT', 'MX', 'NL', 'NZ', 'NI', 'NO', 'PA', 'PY', 'PE', 'PH', 'PL', 'PT', 'SG', 'SK', 'ES', 'SE', 'CH', 'TW', 'TR', 'UY', 'US', 'GB', 'AD', 'LI', 'MC', 'ID', 'JP', 'TH', 'VN', 'RO', 'IL', 'ZA', 'SA', 'AE', 'BH', 'QA', 'OM', 'KW', 'EG', 'MA', 'DZ', 'TN', 'LB', 'JO', 'PS', 'IN', 'BY', 'KZ', 'MD', 'UA', 'AL', 'BA', 'HR', 'ME', 'MK', 'RS', 'SI', 'KR', 'BD', 'PK', 'LK', 'GH', 'KE', 'NG', 'TZ', 'UG', 'AG', 'AM', 'BS', 'BB', 'BZ', 'BT', 'BW', 'BF', 'CV', 'CW', 'DM', 'FJ', 'GM', 'GE', 'GD', 'GW', 'GY', 'HT', 'JM', 'KI', 'LS', 'LR', 'MW', 'MV', 'ML', 'MH', 'FM', 'NA', 'NR', 'NE', 'PW', 'PG', 'PR', 'WS', 'SM', 'ST', 'SN', 'SC', 'SL', 'SB', 'KN', 'LC', 'VC', 'SR', 'TL', 'TO', 'TT', 'TV', 'VU', 'AZ', 'BN', 'BI', 'KH', 'CM', 'TD', 'KM', 'GQ', 'SZ', 'GA', 'GN', 'KG', 'LA', 'MO', 'MR', 'MN', 'NP', 'RW', 'TG', 'UZ', 'ZW', 'BJ', 'MG', 'MU', 'MZ', 'AO', 'CI', 'DJ', 'ZM', 'CD', 'CG', 'IQ', 'LY', 'TJ', 'VE', 'ET', 'XK'], 'explicit': False, 'type': 'track', 'episode': False, 'track': True, 'album': {'available_markets': ['AR', 'AU', 'AT', 'BE', 'BO', 'BR', 'BG', 'CA', 'CL', 'CO', 'CR', 'CY', 'CZ', 'DK', 'DO', 'DE', 'EC', 'EE', 'SV', 'FI', 'FR', 'GR', 'GT', 'HN', 'HK', 'HU', 'IS', 'IE', 'IT', 'LV', 'LT', 'LU', 'MY', 'MT', 'MX', 'NL', 'NZ', 'NI', 'NO', 'PA', 'PY', 'PE', 'PH', 'PL', 'PT', 'SG', 'SK', 'ES', 'SE', 'CH', 'TW', 'TR', 'UY', 'US', 'GB', 'AD', 'LI', 'MC', 'ID', 'JP', 'TH', 'VN', 'RO', 'IL', 'ZA', 'SA', 'AE', 'BH', 'QA', 'OM', 'KW', 'EG', 'MA', 'DZ', 'TN', 'LB', 'JO', 'PS', 'IN', 'BY', 'KZ', 'MD', 'UA', 'AL', 'BA', 'HR', 'ME', 'MK', 'RS', 'SI', 'KR', 'BD', 'PK', 'LK', 'GH', 'KE', 'NG', 'TZ', 'UG', 'AG', 'AM', 'BS', 'BB', 'BZ', 'BT', 'BW', 'BF', 'CV', 'CW', 'DM', 'FJ', 'GM', 'GE', 'GD', 'GW', 'GY', 'HT', 'JM', 'KI', 'LS', 'LR', 'MW', 'MV', 'ML', 'MH', 'FM', 'NA', 'NR', 'NE', 'PW', 'PG', 'PR', 'WS', 'SM', 'ST', 'SN', 'SC', 'SL', 'SB', 'KN', 'LC', 'VC', 'SR', 'TL', 'TO', 'TT', 'TV', 'VU', 'AZ', 'BN', 'BI', 'KH', 'CM', 'TD', 'KM', 'GQ', 'SZ', 'GA', 'GN', 'KG', 'LA', 'MO', 'MR', 'MN', 'NP', 'RW', 'TG', 'UZ', 'ZW', 'BJ', 'MG', 'MU', 'MZ', 'AO', 'CI', 'DJ', 'ZM', 'CD', 'CG', 'IQ', 'LY', 'TJ', 'VE', 'ET', 'XK'], 'type': 'album', 'album_type': 'album', 'href': 'https://api.spotify.com/v1/albums/1DzYor2sqKFs4Z6qcUl0V5', 'id': '1DzYor2sqKFs4Z6qcUl0V5', 'images': [{'height': 640, 'url': 'https://i.scdn.co/image/ab67616d0000b273cd3f6c3c2f2aa9b76fe635b1', 'width': 640}, {'height': 300, 'url': 'https://i.scdn.co/image/ab67616d00001e02cd3f6c3c2f2aa9b76fe635b1', 'width': 300}, {'height': 64, 'url': 'https://i.scdn.co/image/ab67616d00004851cd3f6c3c2f2aa9b76fe635b1', 'width': 64}], 'name': 'Jhoomo Re', 'release_date': '2011-06-03', 'release_date_precision': 'day', 'uri': 'spotify:album:1DzYor2sqKFs4Z6qcUl0V5', 'artists': [{'external_urls': {'spotify': 'https://open.spotify.com/artist/7nEKS1t7i0pE29k2EiMSW6'}, 'href': 'https://api.spotify.com/v1/artists/7nEKS1t7i0pE29k2EiMSW6', 'id': '7nEKS1t7i0pE29k2EiMSW6', 'name': 'Kailasa', 'type': 'artist', 'uri': 'spotify:artist:7nEKS1t7i0pE29k2EiMSW6'}, {'external_urls': {'spotify': 'https://open.spotify.com/artist/4oVMLzAqW6qhRpZWt8fNw4'}, 'href': 'https://api.spotify.com/v1/artists/4oVMLzAqW6qhRpZWt8fNw4', 'id': '4oVMLzAqW6qhRpZWt8fNw4', 'name': 'Kailash Kher', 'type': 'artist', 'uri': 'spotify:artist:4oVMLzAqW6qhRpZWt8fNw4'}], 'external_urls': {'spotify': 'https://open.spotify.com/album/1DzYor2sqKFs4Z6qcUl0V5'}, 'total_tracks': 6}, 'artists': [{'external_urls': {'spotify': 'https://open.spotify.com/artist/4oVMLzAqW6qhRpZWt8fNw4'}, 'href': 'https://api.spotify.com/v1/artists/4oVMLzAqW6qhRpZWt8fNw4', 'id': '4oVMLzAqW6qhRpZWt8fNw4', 'name': 'Kailash Kher', 'type': 'artist', 'uri': 'spotify:artist:4oVMLzAqW6qhRpZWt8fNw4'}, {'external_urls': {'spotify': 'https://open.spotify.com/artist/3PgeUFj9oHU4K4RGaITz2f'}, 'href': 'https://api.spotify.com/v1/artists/3PgeUFj9oHU4K4RGaITz2f', 'id': '3PgeUFj9oHU4K4RGaITz2f', 'name': 'Paresh Kamath', 'type': 'artist', 'uri': 'spotify:artist:3PgeUFj9oHU4K4RGaITz2f'}, {'external_urls': {'spotify': 'https://open.spotify.com/artist/79sho4jpEGoCCC51KHnNSJ'}, 'href': 'https://api.spotify.com/v1/artists/79sho4jpEGoCCC51KHnNSJ', 'id': '79sho4jpEGoCCC51KHnNSJ', 'name': 'Naresh Kamath', 'type': 'artist', 'uri': 'spotify:artist:79sho4jpEGoCCC51KHnNSJ'}], 'disc_number': 1, 'track_number': 2, 'duration_ms': 343906, 'external_ids': {'isrc': 'INS170709140'}, 'external_urls': {'spotify': 'https://open.spotify.com/track/2vR23BjIzpLMtzsyKrM6Mb'}, 'href': 'https://api.spotify.com/v1/tracks/2vR23BjIzpLMtzsyKrM6Mb', 'id': '2vR23BjIzpLMtzsyKrM6Mb', 'name': 'Saiyyan', 'popularity': 70, 'uri': 'spotify:track:2vR23BjIzpLMtzsyKrM6Mb', 'is_local': False}, 'video_thumbnail': {'url': None}}, {'added_at': '2025-01-05T23:45:21Z', 'added_by': {'external_urls': {'spotify': 'https://open.spotify.com/user/31rfk2k7piikvhbd3z5v77jocmjm'}, 'href': 'https://api.spotify.com/v1/users/31rfk2k7piikvhbd3z5v77jocmjm', 'id': '31rfk2k7piikvhbd3z5v77jocmjm', 'type': 'user', 'uri': 'spotify:user:31rfk2k7piikvhbd3z5v77jocmjm'}, 'is_local': False, 'primary_color': None, 'track': {'preview_url': None, 'available_markets': ['AR', 'AU', 'AT', 'BE', 'BO', 'BR', 'BG', 'CA', 'CL', 'CO', 'CR', 'CY', 'CZ', 'DK', 'DO', 'DE', 'EC', 'EE', 'SV', 'FI', 'FR', 'GR', 'GT', 'HN', 'HK', 'HU', 'IS', 'IE', 'IT', 'LV', 'LT', 'LU', 'MY', 'MT', 'MX', 'NL', 'NZ', 'NI', 'NO', 'PA', 'PY', 'PE', 'PH', 'PL', 'PT', 'SG', 'SK', 'ES', 'SE', 'CH', 'TW', 'TR', 'UY', 'US', 'GB', 'AD', 'LI', 'MC', 'ID', 'JP', 'TH', 'VN', 'RO', 'IL', 'ZA', 'SA', 'AE', 'BH', 'QA', 'OM', 'KW', 'EG', 'MA', 'DZ', 'TN', 'LB', 'JO', 'PS', 'IN', 'BY', 'KZ', 'MD', 'UA', 'AL', 'BA', 'HR', 'ME', 'MK', 'RS', 'SI', 'KR', 'BD', 'PK', 'LK', 'GH', 'KE', 'NG', 'TZ', 'UG', 'AG', 'AM', 'BS', 'BB', 'BZ', 'BT', 'BW', 'BF', 'CV', 'CW', 'DM', 'FJ', 'GM', 'GE', 'GD', 'GW', 'GY', 'HT', 'JM', 'KI', 'LS', 'LR', 'MW', 'MV', 'ML', 'MH', 'FM', 'NA', 'NR', 'NE', 'PW', 'PG', 'PR', 'WS', 'SM', 'ST', 'SN', 'SC', 'SL', 'SB', 'KN', 'LC', 'VC', 'SR', 'TL', 'TO', 'TT', 'TV', 'VU', 'AZ', 'BN', 'BI', 'KH', 'CM', 'TD', 'KM', 'GQ', 'SZ', 'GA', 'GN', 'KG', 'LA', 'MO', 'MR', 'MN', 'NP', 'RW', 'TG', 'UZ', 'ZW', 'BJ', 'MG', 'MU', 'MZ', 'AO', 'CI', 'DJ', 'ZM', 'CD', 'CG', 'IQ', 'LY', 'TJ', 'VE', 'ET', 'XK'], 'explicit': False, 'type': 'track', 'episode': False, 'track': True, 'album': {'available_markets': ['AR', 'AU', 'AT', 'BE', 'BO', 'BR', 'BG', 'CA', 'CL', 'CO', 'CR', 'CY', 'CZ', 'DK', 'DO', 'DE', 'EC', 'EE', 'SV', 'FI', 'FR', 'GR', 'GT', 'HN', 'HK', 'HU', 'IS', 'IE', 'IT', 'LV', 'LT', 'LU', 'MY', 'MT', 'MX', 'NL', 'NZ', 'NI', 'NO', 'PA', 'PY', 'PE', 'PH', 'PL', 'PT', 'SG', 'SK', 'ES', 'SE', 'CH', 'TW', 'TR', 'UY', 'US', 'GB', 'AD', 'LI', 'MC', 'ID', 'JP', 'TH', 'VN', 'RO', 'IL', 'ZA', 'SA', 'AE', 'BH', 'QA', 'OM', 'KW', 'EG', 'MA', 'DZ', 'TN', 'LB', 'JO', 'PS', 'IN', 'BY', 'KZ', 'MD', 'UA', 'AL', 'BA', 'HR', 'ME', 'MK', 'RS', 'SI', 'KR', 'BD', 'PK', 'LK', 'GH', 'KE', 'NG', 'TZ', 'UG', 'AG', 'AM', 'BS', 'BB', 'BZ', 'BT', 'BW', 'BF', 'CV', 'CW', 'DM', 'FJ', 'GM', 'GE', 'GD', 'GW', 'GY', 'HT', 'JM', 'KI', 'LS', 'LR', 'MW', 'MV', 'ML', 'MH', 'FM', 'NA', 'NR', 'NE', 'PW', 'PG', 'PR', 'WS', 'SM', 'ST', 'SN', 'SC', 'SL', 'SB', 'KN', 'LC', 'VC', 'SR', 'TL', 'TO', 'TT', 'TV', 'VU', 'AZ', 'BN', 'BI', 'KH', 'CM', 'TD', 'KM', 'GQ', 'SZ', 'GA', 'GN', 'KG', 'LA', 'MO', 'MR', 'MN', 'NP', 'RW', 'TG', 'UZ', 'ZW', 'BJ', 'MG', 'MU', 'MZ', 'AO', 'CI', 'DJ', 'ZM', 'CD', 'CG', 'IQ', 'LY', 'TJ', 'VE', 'ET', 'XK'], 'type': 'album', 'album_type': 'single', 'href': 'https://api.spotify.com/v1/albums/3I3kZyHUtEA9Y59rJkxtk6', 'id': '3I3kZyHUtEA9Y59rJkxtk6', 'images': [{'height': 640, 'url': 'https://i.scdn.co/image/ab67616d0000b273d5f4378b1ffc9119fdc7306d', 'width': 640}, {'height': 300, 'url': 'https://i.scdn.co/image/ab67616d00001e02d5f4378b1ffc9119fdc7306d', 'width': 300}, {'height': 64, 'url': 'https://i.scdn.co/image/ab67616d00004851d5f4378b1ffc9119fdc7306d', 'width': 64}], 'name': 'Sajni (From \"Laapataa Ladies\")', 'release_date': '2024-02-12', 'release_date_precision': 'day', 'uri': 'spotify:album:3I3kZyHUtEA9Y59rJkxtk6', 'artists': [{'external_urls': {'spotify': 'https://open.spotify.com/artist/3PpjqSKBer3obW6lDflOBx'}, 'href': 'https://api.spotify.com/v1/artists/3PpjqSKBer3obW6lDflOBx', 'id': '3PpjqSKBer3obW6lDflOBx', 'name': 'Ram Sampath', 'type': 'artist', 'uri': 'spotify:artist:3PpjqSKBer3obW6lDflOBx'}, {'external_urls': {'spotify': 'https://open.spotify.com/artist/4YRxDV8wJFPHPTeXepOstw'}, 'href': 'https://api.spotify.com/v1/artists/4YRxDV8wJFPHPTeXepOstw', 'id': '4YRxDV8wJFPHPTeXepOstw', 'name': 'Arijit Singh', 'type': 'artist', 'uri': 'spotify:artist:4YRxDV8wJFPHPTeXepOstw'}, {'external_urls': {'spotify': 'https://open.spotify.com/artist/7vCsTTACb2iT4fvBMnwp5w'}, 'href': 'https://api.spotify.com/v1/artists/7vCsTTACb2iT4fvBMnwp5w', 'id': '7vCsTTACb2iT4fvBMnwp5w', 'name': 'Prashant Pandey', 'type': 'artist', 'uri': 'spotify:artist:7vCsTTACb2iT4fvBMnwp5w'}], 'external_urls': {'spotify': 'https://open.spotify.com/album/3I3kZyHUtEA9Y59rJkxtk6'}, 'total_tracks': 1}, 'artists': [{'external_urls': {'spotify': 'https://open.spotify.com/artist/3PpjqSKBer3obW6lDflOBx'}, 'href': 'https://api.spotify.com/v1/artists/3PpjqSKBer3obW6lDflOBx', 'id': '3PpjqSKBer3obW6lDflOBx', 'name': 'Ram Sampath', 'type': 'artist', 'uri': 'spotify:artist:3PpjqSKBer3obW6lDflOBx'}, {'external_urls': {'spotify': 'https://open.spotify.com/artist/4YRxDV8wJFPHPTeXepOstw'}, 'href': 'https://api.spotify.com/v1/artists/4YRxDV8wJFPHPTeXepOstw', 'id': '4YRxDV8wJFPHPTeXepOstw', 'name': 'Arijit Singh', 'type': 'artist', 'uri': 'spotify:artist:4YRxDV8wJFPHPTeXepOstw'}, {'external_urls': {'spotify': 'https://open.spotify.com/artist/7vCsTTACb2iT4fvBMnwp5w'}, 'href': 'https://api.spotify.com/v1/artists/7vCsTTACb2iT4fvBMnwp5w', 'id': '7vCsTTACb2iT4fvBMnwp5w', 'name': 'Prashant Pandey', 'type': 'artist', 'uri': 'spotify:artist:7vCsTTACb2iT4fvBMnwp5w'}], 'disc_number': 1, 'track_number': 1, 'duration_ms': 170044, 'external_ids': {'isrc': 'INS182400369'}, 'external_urls': {'spotify': 'https://open.spotify.com/track/5zCnGtCl5Ac5zlFHXaZmhy'}, 'href': 'https://api.spotify.com/v1/tracks/5zCnGtCl5Ac5zlFHXaZmhy', 'id': '5zCnGtCl5Ac5zlFHXaZmhy', 'name': 'Sajni (From \"Laapataa Ladies\")', 'popularity': 79, 'uri': 'spotify:track:5zCnGtCl5Ac5zlFHXaZmhy', 'is_local': False}, 'video_thumbnail': {'url': None}}, {'added_at': '2025-01-05T23:45:39Z', 'added_by': {'external_urls': {'spotify': 'https://open.spotify.com/user/31rfk2k7piikvhbd3z5v77jocmjm'}, 'href': 'https://api.spotify.com/v1/users/31rfk2k7piikvhbd3z5v77jocmjm', 'id': '31rfk2k7piikvhbd3z5v77jocmjm', 'type': 'user', 'uri': 'spotify:user:31rfk2k7piikvhbd3z5v77jocmjm'}, 'is_local': False, 'primary_color': None, 'track': {'preview_url': None, 'available_markets': ['AR', 'AU', 'AT', 'BE', 'BO', 'BR', 'BG', 'CA', 'CL', 'CO', 'CR', 'CY', 'CZ', 'DK', 'DO', 'DE', 'EC', 'EE', 'SV', 'FI', 'FR', 'GR', 'GT', 'HN', 'HK', 'HU', 'IS', 'IE', 'IT', 'LV', 'LT', 'LU', 'MY', 'MT', 'MX', 'NL', 'NZ', 'NI', 'NO', 'PA', 'PY', 'PE', 'PH', 'PL', 'PT', 'SG', 'SK', 'ES', 'SE', 'CH', 'TW', 'TR', 'UY', 'US', 'GB', 'AD', 'LI', 'MC', 'ID', 'JP', 'TH', 'VN', 'RO', 'IL', 'ZA', 'SA', 'AE', 'BH', 'QA', 'OM', 'KW', 'EG', 'MA', 'DZ', 'TN', 'LB', 'JO', 'PS', 'IN', 'KZ', 'MD', 'UA', 'AL', 'BA', 'HR', 'ME', 'MK', 'RS', 'SI', 'KR', 'BD', 'PK', 'LK', 'GH', 'KE', 'NG', 'TZ', 'UG', 'AG', 'AM', 'BS', 'BB', 'BZ', 'BT', 'BW', 'BF', 'CV', 'CW', 'DM', 'FJ', 'GM', 'GE', 'GD', 'GW', 'GY', 'HT', 'JM', 'KI', 'LS', 'LR', 'MW', 'MV', 'ML', 'MH', 'FM', 'NA', 'NR', 'NE', 'PW', 'PG', 'PR', 'WS', 'SM', 'ST', 'SN', 'SC', 'SL', 'SB', 'KN', 'LC', 'VC', 'SR', 'TL', 'TO', 'TT', 'TV', 'VU', 'AZ', 'BN', 'BI', 'KH', 'CM', 'TD', 'KM', 'GQ', 'SZ', 'GA', 'GN', 'KG', 'LA', 'MO', 'MR', 'MN', 'NP', 'RW', 'TG', 'UZ', 'ZW', 'BJ', 'MG', 'MU', 'MZ', 'AO', 'CI', 'DJ', 'ZM', 'CD', 'CG', 'IQ', 'LY', 'TJ', 'VE', 'ET', 'XK'], 'explicit': False, 'type': 'track', 'episode': False, 'track': True, 'album': {'available_markets': ['AR', 'AU', 'AT', 'BE', 'BO', 'BR', 'BG', 'CA', 'CL', 'CO', 'CR', 'CY', 'CZ', 'DK', 'DO', 'DE', 'EC', 'EE', 'SV', 'FI', 'FR', 'GR', 'GT', 'HN', 'HK', 'HU', 'IS', 'IE', 'IT', 'LV', 'LT', 'LU', 'MY', 'MT', 'MX', 'NL', 'NZ', 'NI', 'NO', 'PA', 'PY', 'PE', 'PH', 'PL', 'PT', 'SG', 'SK', 'ES', 'SE', 'CH', 'TW', 'TR', 'UY', 'US', 'GB', 'AD', 'LI', 'MC', 'ID', 'JP', 'TH', 'VN', 'RO', 'IL', 'ZA', 'SA', 'AE', 'BH', 'QA', 'OM', 'KW', 'EG', 'MA', 'DZ', 'TN', 'LB', 'JO', 'PS', 'IN', 'KZ', 'MD', 'UA', 'AL', 'BA', 'HR', 'ME', 'MK', 'RS', 'SI', 'KR', 'BD', 'PK', 'LK', 'GH', 'KE', 'NG', 'TZ', 'UG', 'AG', 'AM', 'BS', 'BB', 'BZ', 'BT', 'BW', 'BF', 'CV', 'CW', 'DM', 'FJ', 'GM', 'GE', 'GD', 'GW', 'GY', 'HT', 'JM', 'KI', 'LS', 'LR', 'MW', 'MV', 'ML', 'MH', 'FM', 'NA', 'NR', 'NE', 'PW', 'PG', 'PR', 'WS', 'SM', 'ST', 'SN', 'SC', 'SL', 'SB', 'KN', 'LC', 'VC', 'SR', 'TL', 'TO', 'TT', 'TV', 'VU', 'AZ', 'BN', 'BI', 'KH', 'CM', 'TD', 'KM', 'GQ', 'SZ', 'GA', 'GN', 'KG', 'LA', 'MO', 'MR', 'MN', 'NP', 'RW', 'TG', 'UZ', 'ZW', 'BJ', 'MG', 'MU', 'MZ', 'AO', 'CI', 'DJ', 'ZM', 'CD', 'CG', 'IQ', 'LY', 'TJ', 'VE', 'ET', 'XK'], 'type': 'album', 'album_type': 'single', 'href': 'https://api.spotify.com/v1/albums/5ZbqiWukRFxq8zwllvK3YT', 'id': '5ZbqiWukRFxq8zwllvK3YT', 'images': [{'height': 640, 'url': 'https://i.scdn.co/image/ab67616d0000b273b5e7944443cec785db91184b', 'width': 640}, {'height': 300, 'url': 'https://i.scdn.co/image/ab67616d00001e02b5e7944443cec785db91184b', 'width': 300}, {'height': 64, 'url': 'https://i.scdn.co/image/ab67616d00004851b5e7944443cec785db91184b', 'width': 64}], 'name': 'Sahiba', 'release_date': '2024-11-15', 'release_date_precision': 'day', 'uri': 'spotify:album:5ZbqiWukRFxq8zwllvK3YT', 'artists': [{'external_urls': {'spotify': 'https://open.spotify.com/artist/74OaRjmyh0XyRZsQQQ5l7c'}, 'href': 'https://api.spotify.com/v1/artists/74OaRjmyh0XyRZsQQQ5l7c', 'id': '74OaRjmyh0XyRZsQQQ5l7c', 'name': 'Jasleen Royal', 'type': 'artist', 'uri': 'spotify:artist:74OaRjmyh0XyRZsQQQ5l7c'}, {'external_urls': {'spotify': 'https://open.spotify.com/artist/1UAzmnFgjizIDvtHvnCdEq'}, 'href': 'https://api.spotify.com/v1/artists/1UAzmnFgjizIDvtHvnCdEq', 'id': '1UAzmnFgjizIDvtHvnCdEq', 'name': 'Stebin Ben', 'type': 'artist', 'uri': 'spotify:artist:1UAzmnFgjizIDvtHvnCdEq'}, {'external_urls': {'spotify': 'https://open.spotify.com/artist/3k1eCPRO0dE0Q9YsRfh4vn'}, 'href': 'https://api.spotify.com/v1/artists/3k1eCPRO0dE0Q9YsRfh4vn', 'id': '3k1eCPRO0dE0Q9YsRfh4vn', 'name': 'Vijay Deverakonda', 'type': 'artist', 'uri': 'spotify:artist:3k1eCPRO0dE0Q9YsRfh4vn'}], 'external_urls': {'spotify': 'https://open.spotify.com/album/5ZbqiWukRFxq8zwllvK3YT'}, 'total_tracks': 1}, 'artists': [{'external_urls': {'spotify': 'https://open.spotify.com/artist/74OaRjmyh0XyRZsQQQ5l7c'}, 'href': 'https://api.spotify.com/v1/artists/74OaRjmyh0XyRZsQQQ5l7c', 'id': '74OaRjmyh0XyRZsQQQ5l7c', 'name': 'Jasleen Royal', 'type': 'artist', 'uri': 'spotify:artist:74OaRjmyh0XyRZsQQQ5l7c'}, {'external_urls': {'spotify': 'https://open.spotify.com/artist/1UAzmnFgjizIDvtHvnCdEq'}, 'href': 'https://api.spotify.com/v1/artists/1UAzmnFgjizIDvtHvnCdEq', 'id': '1UAzmnFgjizIDvtHvnCdEq', 'name': 'Stebin Ben', 'type': 'artist', 'uri': 'spotify:artist:1UAzmnFgjizIDvtHvnCdEq'}, {'external_urls': {'spotify': 'https://open.spotify.com/artist/3k1eCPRO0dE0Q9YsRfh4vn'}, 'href': 'https://api.spotify.com/v1/artists/3k1eCPRO0dE0Q9YsRfh4vn', 'id': '3k1eCPRO0dE0Q9YsRfh4vn', 'name': 'Vijay Deverakonda', 'type': 'artist', 'uri': 'spotify:artist:3k1eCPRO0dE0Q9YsRfh4vn'}, {'external_urls': {'spotify': 'https://open.spotify.com/artist/2zkXEdYr7MxUFhS9xF48UB'}, 'href': 'https://api.spotify.com/v1/artists/2zkXEdYr7MxUFhS9xF48UB', 'id': '2zkXEdYr7MxUFhS9xF48UB', 'name': 'Radhikka Madan', 'type': 'artist', 'uri': 'spotify:artist:2zkXEdYr7MxUFhS9xF48UB'}, {'external_urls': {'spotify': 'https://open.spotify.com/artist/6q29t5RuXxlBuqIZsOMQss'}, 'href': 'https://api.spotify.com/v1/artists/6q29t5RuXxlBuqIZsOMQss', 'id': '6q29t5RuXxlBuqIZsOMQss', 'name': 'Priya Saraiya', 'type': 'artist', 'uri': 'spotify:artist:6q29t5RuXxlBuqIZsOMQss'}, {'external_urls': {'spotify': 'https://open.spotify.com/artist/70RAfkLNWG5J2bsnJqBpLQ'}, 'href': 'https://api.spotify.com/v1/artists/70RAfkLNWG5J2bsnJqBpLQ', 'id': '70RAfkLNWG5J2bsnJqBpLQ', 'name': 'Aditya Sharma', 'type': 'artist', 'uri': 'spotify:artist:70RAfkLNWG5J2bsnJqBpLQ'}], 'disc_number': 1, 'track_number': 1, 'duration_ms': 217148, 'external_ids': {'isrc': 'INW262400729'}, 'external_urls': {'spotify': 'https://open.spotify.com/track/4ulroyDK6rN73nVkCkWhur'}, 'href': 'https://api.spotify.com/v1/tracks/4ulroyDK6rN73nVkCkWhur', 'id': '4ulroyDK6rN73nVkCkWhur', 'name': 'Sahiba', 'popularity': 78, 'uri': 'spotify:track:4ulroyDK6rN73nVkCkWhur', 'is_local': False}, 'video_thumbnail': {'url': None}}, {'added_at': '2025-01-05T23:46:23Z', 'added_by': {'external_urls': {'spotify': 'https://open.spotify.com/user/31rfk2k7piikvhbd3z5v77jocmjm'}, 'href': 'https://api.spotify.com/v1/users/31rfk2k7piikvhbd3z5v77jocmjm', 'id': '31rfk2k7piikvhbd3z5v77jocmjm', 'type': 'user', 'uri': 'spotify:user:31rfk2k7piikvhbd3z5v77jocmjm'}, 'is_local': False, 'primary_color': None, 'track': {'preview_url': None, 'available_markets': ['AR', 'AU', 'AT', 'BE', 'BO', 'BR', 'BG', 'CA', 'CL', 'CO', 'CR', 'CY', 'CZ', 'DK', 'DO', 'DE', 'EC', 'EE', 'SV', 'FI', 'FR', 'GR', 'GT', 'HN', 'HK', 'HU', 'IS', 'IE', 'IT', 'LV', 'LT', 'LU', 'MY', 'MT', 'MX', 'NL', 'NZ', 'NI', 'NO', 'PA', 'PY', 'PE', 'PH', 'PL', 'PT', 'SG', 'SK', 'ES', 'SE', 'CH', 'TW', 'TR', 'UY', 'US', 'GB', 'AD', 'LI', 'MC', 'ID', 'JP', 'TH', 'VN', 'RO', 'IL', 'ZA', 'SA', 'AE', 'BH', 'QA', 'OM', 'KW', 'EG', 'MA', 'DZ', 'TN', 'LB', 'JO', 'PS', 'BY', 'KZ', 'MD', 'UA', 'AL', 'BA', 'HR', 'ME', 'MK', 'RS', 'SI', 'KR', 'BD', 'PK', 'LK', 'GH', 'KE', 'NG', 'TZ', 'UG', 'AG', 'AM', 'BS', 'BB', 'BZ', 'BT', 'BW', 'BF', 'CV', 'CW', 'DM', 'FJ', 'GM', 'GE', 'GD', 'GW', 'GY', 'HT', 'JM', 'KI', 'LS', 'LR', 'MW', 'ML', 'MH', 'FM', 'NA', 'NR', 'NE', 'PW', 'PG', 'PR', 'WS', 'SM', 'ST', 'SN', 'SC', 'SL', 'SB', 'KN', 'LC', 'VC', 'SR', 'TL', 'TO', 'TT', 'TV', 'VU', 'AZ', 'BN', 'BI', 'KH', 'CM', 'TD', 'KM', 'GQ', 'SZ', 'GA', 'GN', 'KG', 'LA', 'MO', 'MR', 'MN', 'NP', 'RW', 'TG', 'UZ', 'ZW', 'BJ', 'MG', 'MU', 'MZ', 'AO', 'CI', 'DJ', 'ZM', 'CD', 'CG', 'IQ', 'LY', 'TJ', 'VE', 'ET', 'XK'], 'explicit': False, 'type': 'track', 'episode': False, 'track': True, 'album': {'available_markets': ['AR', 'AU', 'AT', 'BE', 'BO', 'BR', 'BG', 'CA', 'CL', 'CO', 'CR', 'CY', 'CZ', 'DK', 'DO', 'DE', 'EC', 'EE', 'SV', 'FI', 'FR', 'GR', 'GT', 'HN', 'HK', 'HU', 'IS', 'IE', 'IT', 'LV', 'LT', 'LU', 'MY', 'MT', 'MX', 'NL', 'NZ', 'NI', 'NO', 'PA', 'PY', 'PE', 'PH', 'PL', 'PT', 'SG', 'SK', 'ES', 'SE', 'CH', 'TW', 'TR', 'UY', 'US', 'GB', 'AD', 'LI', 'MC', 'ID', 'JP', 'TH', 'VN', 'RO', 'IL', 'ZA', 'SA', 'AE', 'BH', 'QA', 'OM', 'KW', 'EG', 'MA', 'DZ', 'TN', 'LB', 'JO', 'PS', 'BY', 'KZ', 'MD', 'UA', 'AL', 'BA', 'HR', 'ME', 'MK', 'RS', 'SI', 'KR', 'BD', 'PK', 'LK', 'GH', 'KE', 'NG', 'TZ', 'UG', 'AG', 'AM', 'BS', 'BB', 'BZ', 'BT', 'BW', 'BF', 'CV', 'CW', 'DM', 'FJ', 'GM', 'GE', 'GD', 'GW', 'GY', 'HT', 'JM', 'KI', 'LS', 'LR', 'MW', 'ML', 'MH', 'FM', 'NA', 'NR', 'NE', 'PW', 'PG', 'PR', 'WS', 'SM', 'ST', 'SN', 'SC', 'SL', 'SB', 'KN', 'LC', 'VC', 'SR', 'TL', 'TO', 'TT', 'TV', 'VU', 'AZ', 'BN', 'BI', 'KH', 'CM', 'TD', 'KM', 'GQ', 'SZ', 'GA', 'GN', 'KG', 'LA', 'MO', 'MR', 'MN', 'NP', 'RW', 'TG', 'UZ', 'ZW', 'BJ', 'MG', 'MU', 'MZ', 'AO', 'CI', 'DJ', 'ZM', 'CD', 'CG', 'IQ', 'LY', 'TJ', 'VE', 'ET', 'XK'], 'type': 'album', 'album_type': 'compilation', 'href': 'https://api.spotify.com/v1/albums/3oFkgvHruat7gfJMAJv6Wa', 'id': '3oFkgvHruat7gfJMAJv6Wa', 'images': [{'height': 640, 'url': 'https://i.scdn.co/image/ab67616d0000b273743f337efb29a95891e8aac1', 'width': 640}, {'height': 300, 'url': 'https://i.scdn.co/image/ab67616d00001e02743f337efb29a95891e8aac1', 'width': 300}, {'height': 64, 'url': 'https://i.scdn.co/image/ab67616d00004851743f337efb29a95891e8aac1', 'width': 64}], 'name': 'Trending Punjabi Hits', 'release_date': '2024-07-25', 'release_date_precision': 'day', 'uri': 'spotify:album:3oFkgvHruat7gfJMAJv6Wa', 'artists': [{'external_urls': {'spotify': 'https://open.spotify.com/artist/0LyfQWJT6nXafLPZqxe9Of'}, 'href': 'https://api.spotify.com/v1/artists/0LyfQWJT6nXafLPZqxe9Of', 'id': '0LyfQWJT6nXafLPZqxe9Of', 'name': 'Various Artists', 'type': 'artist', 'uri': 'spotify:artist:0LyfQWJT6nXafLPZqxe9Of'}], 'external_urls': {'spotify': 'https://open.spotify.com/album/3oFkgvHruat7gfJMAJv6Wa'}, 'total_tracks': 20}, 'artists': [{'external_urls': {'spotify': 'https://open.spotify.com/artist/56SjZARoEvag3RoKWIb16j'}, 'href': 'https://api.spotify.com/v1/artists/56SjZARoEvag3RoKWIb16j', 'id': '56SjZARoEvag3RoKWIb16j', 'name': 'B Praak', 'type': 'artist', 'uri': 'spotify:artist:56SjZARoEvag3RoKWIb16j'}], 'disc_number': 1, 'track_number': 8, 'duration_ms': 220500, 'external_ids': {'isrc': 'INM432000042'}, 'external_urls': {'spotify': 'https://open.spotify.com/track/2ruImJNc00PYkuDumhV98V'}, 'href': 'https://api.spotify.com/v1/tracks/2ruImJNc00PYkuDumhV98V', 'id': '2ruImJNc00PYkuDumhV98V', 'name': 'Jannat', 'popularity': 31, 'uri': 'spotify:track:2ruImJNc00PYkuDumhV98V', 'is_local': False}, 'video_thumbnail': {'url': None}}, {'added_at': '2025-01-05T23:46:54Z', 'added_by': {'external_urls': {'spotify': 'https://open.spotify.com/user/31rfk2k7piikvhbd3z5v77jocmjm'}, 'href': 'https://api.spotify.com/v1/users/31rfk2k7piikvhbd3z5v77jocmjm', 'id': '31rfk2k7piikvhbd3z5v77jocmjm', 'type': 'user', 'uri': 'spotify:user:31rfk2k7piikvhbd3z5v77jocmjm'}, 'is_local': False, 'primary_color': None, 'track': {'preview_url': None, 'available_markets': ['AR', 'AU', 'AT', 'BE', 'BO', 'BR', 'BG', 'CA', 'CL', 'CO', 'CR', 'CY', 'CZ', 'DK', 'DO', 'DE', 'EC', 'EE', 'SV', 'FI', 'FR', 'GR', 'GT', 'HN', 'HK', 'HU', 'IS', 'IE', 'IT', 'LV', 'LT', 'LU', 'MY', 'MT', 'MX', 'NL', 'NZ', 'NI', 'NO', 'PA', 'PY', 'PE', 'PH', 'PL', 'PT', 'SG', 'SK', 'ES', 'SE', 'CH', 'TW', 'TR', 'UY', 'US', 'GB', 'AD', 'LI', 'MC', 'ID', 'JP', 'TH', 'VN', 'RO', 'IL', 'ZA', 'SA', 'AE', 'BH', 'QA', 'OM', 'KW', 'EG', 'MA', 'DZ', 'TN', 'LB', 'JO', 'PS', 'IN', 'KZ', 'MD', 'UA', 'AL', 'BA', 'HR', 'ME', 'MK', 'RS', 'SI', 'KR', 'BD', 'PK', 'LK', 'GH', 'KE', 'NG', 'TZ', 'UG', 'AG', 'AM', 'BS', 'BB', 'BZ', 'BT', 'BW', 'BF', 'CV', 'CW', 'DM', 'FJ', 'GM', 'GE', 'GD', 'GW', 'GY', 'HT', 'JM', 'KI', 'LS', 'LR', 'MW', 'MV', 'ML', 'MH', 'FM', 'NA', 'NR', 'NE', 'PW', 'PG', 'WS', 'SM', 'ST', 'SN', 'SC', 'SL', 'SB', 'KN', 'LC', 'VC', 'SR', 'TL', 'TO', 'TT', 'TV', 'VU', 'AZ', 'BN', 'BI', 'KH', 'CM', 'TD', 'KM', 'GQ', 'SZ', 'GA', 'GN', 'KG', 'LA', 'MO', 'MR', 'MN', 'NP', 'RW', 'TG', 'UZ', 'ZW', 'BJ', 'MG', 'MU', 'MZ', 'AO', 'CI', 'DJ', 'ZM', 'CD', 'CG', 'IQ', 'LY', 'TJ', 'VE', 'ET', 'XK'], 'explicit': False, 'type': 'track', 'episode': False, 'track': True, 'album': {'available_markets': ['AR', 'AU', 'AT', 'BE', 'BO', 'BR', 'BG', 'CA', 'CL', 'CO', 'CR', 'CY', 'CZ', 'DK', 'DO', 'DE', 'EC', 'EE', 'SV', 'FI', 'FR', 'GR', 'GT', 'HN', 'HK', 'HU', 'IS', 'IE', 'IT', 'LV', 'LT', 'LU', 'MY', 'MT', 'MX', 'NL', 'NZ', 'NI', 'NO', 'PA', 'PY', 'PE', 'PH', 'PL', 'PT', 'SG', 'SK', 'ES', 'SE', 'CH', 'TW', 'TR', 'UY', 'US', 'GB', 'AD', 'LI', 'MC', 'ID', 'JP', 'TH', 'VN', 'RO', 'IL', 'ZA', 'SA', 'AE', 'BH', 'QA', 'OM', 'KW', 'EG', 'MA', 'DZ', 'TN', 'LB', 'JO', 'PS', 'IN', 'KZ', 'MD', 'UA', 'AL', 'BA', 'HR', 'ME', 'MK', 'RS', 'SI', 'KR', 'BD', 'PK', 'LK', 'GH', 'KE', 'NG', 'TZ', 'UG', 'AG', 'AM', 'BS', 'BB', 'BZ', 'BT', 'BW', 'BF', 'CV', 'CW', 'DM', 'FJ', 'GM', 'GE', 'GD', 'GW', 'GY', 'HT', 'JM', 'KI', 'LS', 'LR', 'MW', 'MV', 'ML', 'MH', 'FM', 'NA', 'NR', 'NE', 'PW', 'PG', 'WS', 'SM', 'ST', 'SN', 'SC', 'SL', 'SB', 'KN', 'LC', 'VC', 'SR', 'TL', 'TO', 'TT', 'TV', 'VU', 'AZ', 'BN', 'BI', 'KH', 'CM', 'TD', 'KM', 'GQ', 'SZ', 'GA', 'GN', 'KG', 'LA', 'MO', 'MR', 'MN', 'NP', 'RW', 'TG', 'UZ', 'ZW', 'BJ', 'MG', 'MU', 'MZ', 'AO', 'CI', 'DJ', 'ZM', 'CD', 'CG', 'IQ', 'LY', 'TJ', 'VE', 'ET', 'XK'], 'type': 'album', 'album_type': 'album', 'href': 'https://api.spotify.com/v1/albums/1RNEvKlb3YovuiE8Gw5VOO', 'id': '1RNEvKlb3YovuiE8Gw5VOO', 'images': [{'height': 640, 'url': 'https://i.scdn.co/image/ab67616d0000b273fc8c4535825cdc0bcafde19a', 'width': 640}, {'height': 300, 'url': 'https://i.scdn.co/image/ab67616d00001e02fc8c4535825cdc0bcafde19a', 'width': 300}, {'height': 64, 'url': 'https://i.scdn.co/image/ab67616d00004851fc8c4535825cdc0bcafde19a', 'width': 64}], 'name': 'Laila Majnu (Original Motion Picture Soundtrack)', 'release_date': '2018-10-30', 'release_date_precision': 'day', 'uri': 'spotify:album:1RNEvKlb3YovuiE8Gw5VOO', 'artists': [{'external_urls': {'spotify': 'https://open.spotify.com/artist/3Qol2r2jehhR5yKbmk1Dg4'}, 'href': 'https://api.spotify.com/v1/artists/3Qol2r2jehhR5yKbmk1Dg4', 'id': '3Qol2r2jehhR5yKbmk1Dg4', 'name': 'Niladri Kumar', 'type': 'artist', 'uri': 'spotify:artist:3Qol2r2jehhR5yKbmk1Dg4'}, {'external_urls': {'spotify': 'https://open.spotify.com/artist/1UdYhDdrXVNJMAKghjdU6v'}, 'href': 'https://api.spotify.com/v1/artists/1UdYhDdrXVNJMAKghjdU6v', 'id': '1UdYhDdrXVNJMAKghjdU6v', 'name': 'Joi Barua', 'type': 'artist', 'uri': 'spotify:artist:1UdYhDdrXVNJMAKghjdU6v'}, {'external_urls': {'spotify': 'https://open.spotify.com/artist/745oUlBO0YnhDcFIXS3SPL'}, 'href': 'https://api.spotify.com/v1/artists/745oUlBO0YnhDcFIXS3SPL', 'id': '745oUlBO0YnhDcFIXS3SPL', 'name': 'Alif', 'type': 'artist', 'uri': 'spotify:artist:745oUlBO0YnhDcFIXS3SPL'}], 'external_urls': {'spotify': 'https://open.spotify.com/album/1RNEvKlb3YovuiE8Gw5VOO'}, 'total_tracks': 11}, 'artists': [{'external_urls': {'spotify': 'https://open.spotify.com/artist/2oSONSC9zQ4UonDKnLqksx'}, 'href': 'https://api.spotify.com/v1/artists/2oSONSC9zQ4UonDKnLqksx', 'id': '2oSONSC9zQ4UonDKnLqksx', 'name': 'Atif Aslam', 'type': 'artist', 'uri': 'spotify:artist:2oSONSC9zQ4UonDKnLqksx'}, {'external_urls': {'spotify': 'https://open.spotify.com/artist/5wQDQFm7Ku8WWGi5xqJ9lp'}, 'href': 'https://api.spotify.com/v1/artists/5wQDQFm7Ku8WWGi5xqJ9lp', 'id': '5wQDQFm7Ku8WWGi5xqJ9lp', 'name': 'Jyotica Tangri', 'type': 'artist', 'uri': 'spotify:artist:5wQDQFm7Ku8WWGi5xqJ9lp'}], 'disc_number': 1, 'track_number': 2, 'duration_ms': 281856, 'external_ids': {'isrc': 'INZ031403863'}, 'external_urls': {'spotify': 'https://open.spotify.com/track/5sUSbJo0brScvv48ZZ1HrQ'}, 'href': 'https://api.spotify.com/v1/tracks/5sUSbJo0brScvv48ZZ1HrQ', 'id': '5sUSbJo0brScvv48ZZ1HrQ', 'name': 'O Meri Laila', 'popularity': 73, 'uri': 'spotify:track:5sUSbJo0brScvv48ZZ1HrQ', 'is_local': False}, 'video_thumbnail': {'url': None}}, {'added_at': '2025-01-05T23:47:19Z', 'added_by': {'external_urls': {'spotify': 'https://open.spotify.com/user/31rfk2k7piikvhbd3z5v77jocmjm'}, 'href': 'https://api.spotify.com/v1/users/31rfk2k7piikvhbd3z5v77jocmjm', 'id': '31rfk2k7piikvhbd3z5v77jocmjm', 'type': 'user', 'uri': 'spotify:user:31rfk2k7piikvhbd3z5v77jocmjm'}, 'is_local': False, 'primary_color': None, 'track': {'preview_url': None, 'available_markets': ['AR', 'AU', 'AT', 'BE', 'BO', 'BR', 'BG', 'CA', 'CL', 'CO', 'CR', 'CY', 'CZ', 'DK', 'DO', 'DE', 'EC', 'EE', 'SV', 'FI', 'FR', 'GR', 'GT', 'HN', 'HK', 'HU', 'IS', 'IE', 'IT', 'LV', 'LT', 'LU', 'MY', 'MT', 'MX', 'NL', 'NZ', 'NI', 'NO', 'PA', 'PY', 'PE', 'PH', 'PL', 'PT', 'SG', 'SK', 'ES', 'SE', 'CH', 'TW', 'TR', 'UY', 'US', 'GB', 'AD', 'LI', 'MC', 'ID', 'JP', 'TH', 'VN', 'RO', 'IL', 'ZA', 'SA', 'AE', 'BH', 'QA', 'OM', 'KW', 'EG', 'MA', 'DZ', 'TN', 'LB', 'JO', 'PS', 'IN', 'KZ', 'MD', 'UA', 'AL', 'BA', 'HR', 'ME', 'MK', 'RS', 'SI', 'KR', 'BD', 'PK', 'LK', 'GH', 'KE', 'NG', 'TZ', 'UG', 'AG', 'AM', 'BS', 'BB', 'BZ', 'BT', 'BW', 'BF', 'CV', 'CW', 'DM', 'FJ', 'GM', 'GE', 'GD', 'GW', 'GY', 'HT', 'JM', 'KI', 'LS', 'LR', 'MW', 'MV', 'ML', 'MH', 'FM', 'NA', 'NR', 'NE', 'PW', 'PG', 'WS', 'SM', 'ST', 'SN', 'SC', 'SL', 'SB', 'KN', 'LC', 'VC', 'SR', 'TL', 'TO', 'TT', 'TV', 'VU', 'AZ', 'BN', 'BI', 'KH', 'CM', 'TD', 'KM', 'GQ', 'SZ', 'GA', 'GN', 'KG', 'LA', 'MO', 'MR', 'MN', 'NP', 'RW', 'TG', 'UZ', 'ZW', 'BJ', 'MG', 'MU', 'MZ', 'AO', 'CI', 'DJ', 'ZM', 'CD', 'CG', 'IQ', 'LY', 'TJ', 'VE', 'ET', 'XK'], 'explicit': False, 'type': 'track', 'episode': False, 'track': True, 'album': {'available_markets': ['AR', 'AU', 'AT', 'BE', 'BO', 'BR', 'BG', 'CA', 'CL', 'CO', 'CR', 'CY', 'CZ', 'DK', 'DO', 'DE', 'EC', 'EE', 'SV', 'FI', 'FR', 'GR', 'GT', 'HN', 'HK', 'HU', 'IS', 'IE', 'IT', 'LV', 'LT', 'LU', 'MY', 'MT', 'MX', 'NL', 'NZ', 'NI', 'NO', 'PA', 'PY', 'PE', 'PH', 'PL', 'PT', 'SG', 'SK', 'ES', 'SE', 'CH', 'TW', 'TR', 'UY', 'US', 'GB', 'AD', 'LI', 'MC', 'ID', 'JP', 'TH', 'VN', 'RO', 'IL', 'ZA', 'SA', 'AE', 'BH', 'QA', 'OM', 'KW', 'EG', 'MA', 'DZ', 'TN', 'LB', 'JO', 'PS', 'IN', 'KZ', 'MD', 'UA', 'AL', 'BA', 'HR', 'ME', 'MK', 'RS', 'SI', 'KR', 'BD', 'PK', 'LK', 'GH', 'KE', 'NG', 'TZ', 'UG', 'AG', 'AM', 'BS', 'BB', 'BZ', 'BT', 'BW', 'BF', 'CV', 'CW', 'DM', 'FJ', 'GM', 'GE', 'GD', 'GW', 'GY', 'HT', 'JM', 'KI', 'LS', 'LR', 'MW', 'MV', 'ML', 'MH', 'FM', 'NA', 'NR', 'NE', 'PW', 'PG', 'WS', 'SM', 'ST', 'SN', 'SC', 'SL', 'SB', 'KN', 'LC', 'VC', 'SR', 'TL', 'TO', 'TT', 'TV', 'VU', 'AZ', 'BN', 'BI', 'KH', 'CM', 'TD', 'KM', 'GQ', 'SZ', 'GA', 'GN', 'KG', 'LA', 'MO', 'MR', 'MN', 'NP', 'RW', 'TG', 'UZ', 'ZW', 'BJ', 'MG', 'MU', 'MZ', 'AO', 'CI', 'DJ', 'ZM', 'CD', 'CG', 'IQ', 'LY', 'TJ', 'VE', 'ET', 'XK'], 'type': 'album', 'album_type': 'single', 'href': 'https://api.spotify.com/v1/albums/0upenH0uUT36nBbVM5mQhW', 'id': '0upenH0uUT36nBbVM5mQhW', 'images': [{'height': 640, 'url': 'https://i.scdn.co/image/ab67616d0000b27372a77d038887cdc425f5ee55', 'width': 640}, {'height': 300, 'url': 'https://i.scdn.co/image/ab67616d00001e0272a77d038887cdc425f5ee55', 'width': 300}, {'height': 64, 'url': 'https://i.scdn.co/image/ab67616d0000485172a77d038887cdc425f5ee55', 'width': 64}], 'name': 'Jo Tum Mere Ho', 'release_date': '2024-08-02', 'release_date_precision': 'day', 'uri': 'spotify:album:0upenH0uUT36nBbVM5mQhW', 'artists': [{'external_urls': {'spotify': 'https://open.spotify.com/artist/4gdMJYnopf2nEUcanAwstx'}, 'href': 'https://api.spotify.com/v1/artists/4gdMJYnopf2nEUcanAwstx', 'id': '4gdMJYnopf2nEUcanAwstx', 'name': 'Anuv Jain', 'type': 'artist', 'uri': 'spotify:artist:4gdMJYnopf2nEUcanAwstx'}], 'external_urls': {'spotify': 'https://open.spotify.com/album/0upenH0uUT36nBbVM5mQhW'}, 'total_tracks': 1}, 'artists': [{'external_urls': {'spotify': 'https://open.spotify.com/artist/4gdMJYnopf2nEUcanAwstx'}, 'href': 'https://api.spotify.com/v1/artists/4gdMJYnopf2nEUcanAwstx', 'id': '4gdMJYnopf2nEUcanAwstx', 'name': 'Anuv Jain', 'type': 'artist', 'uri': 'spotify:artist:4gdMJYnopf2nEUcanAwstx'}], 'disc_number': 1, 'track_number': 1, 'duration_ms': 251813, 'external_ids': {'isrc': 'INUM72400721'}, 'external_urls': {'spotify': 'https://open.spotify.com/track/0eCajpR75pDW0r64U6hP2x'}, 'href': 'https://api.spotify.com/v1/tracks/0eCajpR75pDW0r64U6hP2x', 'id': '0eCajpR75pDW0r64U6hP2x', 'name': 'Jo Tum Mere Ho', 'popularity': 83, 'uri': 'spotify:track:0eCajpR75pDW0r64U6hP2x', 'is_local': False}, 'video_thumbnail': {'url': None}}, {'added_at': '2025-01-05T23:47:37Z', 'added_by': {'external_urls': {'spotify': 'https://open.spotify.com/user/31rfk2k7piikvhbd3z5v77jocmjm'}, 'href': 'https://api.spotify.com/v1/users/31rfk2k7piikvhbd3z5v77jocmjm', 'id': '31rfk2k7piikvhbd3z5v77jocmjm', 'type': 'user', 'uri': 'spotify:user:31rfk2k7piikvhbd3z5v77jocmjm'}, 'is_local': False, 'primary_color': None, 'track': {'preview_url': None, 'available_markets': ['AR', 'AU', 'AT', 'BE', 'BO', 'BR', 'BG', 'CA', 'CL', 'CO', 'CR', 'CY', 'CZ', 'DK', 'DO', 'DE', 'EC', 'EE', 'SV', 'FI', 'FR', 'GR', 'GT', 'HN', 'HK', 'HU', 'IS', 'IE', 'IT', 'LV', 'LT', 'LU', 'MY', 'MT', 'MX', 'NL', 'NZ', 'NI', 'NO', 'PA', 'PY', 'PE', 'PH', 'PL', 'PT', 'SG', 'SK', 'ES', 'SE', 'CH', 'TW', 'TR', 'UY', 'US', 'GB', 'AD', 'LI', 'MC', 'ID', 'JP', 'TH', 'VN', 'RO', 'IL', 'ZA', 'SA', 'AE', 'BH', 'QA', 'OM', 'KW', 'EG', 'MA', 'DZ', 'TN', 'LB', 'JO', 'PS', 'IN', 'KZ', 'MD', 'UA', 'AL', 'BA', 'HR', 'ME', 'MK', 'RS', 'SI', 'KR', 'BD', 'PK', 'LK', 'GH', 'KE', 'NG', 'TZ', 'UG', 'AG', 'AM', 'BS', 'BB', 'BZ', 'BT', 'BW', 'BF', 'CV', 'CW', 'DM', 'FJ', 'GM', 'GE', 'GD', 'GW', 'GY', 'HT', 'JM', 'KI', 'LS', 'LR', 'MW', 'MV', 'ML', 'MH', 'FM', 'NA', 'NR', 'NE', 'PW', 'PG', 'WS', 'SM', 'ST', 'SN', 'SC', 'SL', 'SB', 'KN', 'LC', 'VC', 'SR', 'TL', 'TO', 'TT', 'TV', 'VU', 'AZ', 'BN', 'BI', 'KH', 'CM', 'TD', 'KM', 'GQ', 'SZ', 'GA', 'GN', 'KG', 'LA', 'MO', 'MR', 'MN', 'NP', 'RW', 'TG', 'UZ', 'ZW', 'BJ', 'MG', 'MU', 'MZ', 'AO', 'CI', 'DJ', 'ZM', 'CD', 'CG', 'IQ', 'LY', 'TJ', 'VE', 'ET', 'XK'], 'explicit': False, 'type': 'track', 'episode': False, 'track': True, 'album': {'available_markets': ['AR', 'AU', 'AT', 'BE', 'BO', 'BR', 'BG', 'CA', 'CL', 'CO', 'CR', 'CY', 'CZ', 'DK', 'DO', 'DE', 'EC', 'EE', 'SV', 'FI', 'FR', 'GR', 'GT', 'HN', 'HK', 'HU', 'IS', 'IE', 'IT', 'LV', 'LT', 'LU', 'MY', 'MT', 'MX', 'NL', 'NZ', 'NI', 'NO', 'PA', 'PY', 'PE', 'PH', 'PL', 'PT', 'SG', 'SK', 'ES', 'SE', 'CH', 'TW', 'TR', 'UY', 'US', 'GB', 'AD', 'LI', 'MC', 'ID', 'JP', 'TH', 'VN', 'RO', 'IL', 'ZA', 'SA', 'AE', 'BH', 'QA', 'OM', 'KW', 'EG', 'MA', 'DZ', 'TN', 'LB', 'JO', 'PS', 'IN', 'KZ', 'MD', 'UA', 'AL', 'BA', 'HR', 'ME', 'MK', 'RS', 'SI', 'KR', 'BD', 'PK', 'LK', 'GH', 'KE', 'NG', 'TZ', 'UG', 'AG', 'AM', 'BS', 'BB', 'BZ', 'BT', 'BW', 'BF', 'CV', 'CW', 'DM', 'FJ', 'GM', 'GE', 'GD', 'GW', 'GY', 'HT', 'JM', 'KI', 'LS', 'LR', 'MW', 'MV', 'ML', 'MH', 'FM', 'NA', 'NR', 'NE', 'PW', 'PG', 'WS', 'SM', 'ST', 'SN', 'SC', 'SL', 'SB', 'KN', 'LC', 'VC', 'SR', 'TL', 'TO', 'TT', 'TV', 'VU', 'AZ', 'BN', 'BI', 'KH', 'CM', 'TD', 'KM', 'GQ', 'SZ', 'GA', 'GN', 'KG', 'LA', 'MO', 'MR', 'MN', 'NP', 'RW', 'TG', 'UZ', 'ZW', 'BJ', 'MG', 'MU', 'MZ', 'AO', 'CI', 'DJ', 'ZM', 'CD', 'CG', 'IQ', 'LY', 'TJ', 'VE', 'ET', 'XK'], 'type': 'album', 'album_type': 'single', 'href': 'https://api.spotify.com/v1/albums/2SarxpD48O1DOiDIccyZ0W', 'id': '2SarxpD48O1DOiDIccyZ0W', 'images': [{'height': 640, 'url': 'https://i.scdn.co/image/ab67616d0000b2730d3449f333a83a25feb423f8', 'width': 640}, {'height': 300, 'url': 'https://i.scdn.co/image/ab67616d00001e020d3449f333a83a25feb423f8', 'width': 300}, {'height': 64, 'url': 'https://i.scdn.co/image/ab67616d000048510d3449f333a83a25feb423f8', 'width': 64}], 'name': 'Husn', 'release_date': '2023-12-01', 'release_date_precision': 'day', 'uri': 'spotify:album:2SarxpD48O1DOiDIccyZ0W', 'artists': [{'external_urls': {'spotify': 'https://open.spotify.com/artist/4gdMJYnopf2nEUcanAwstx'}, 'href': 'https://api.spotify.com/v1/artists/4gdMJYnopf2nEUcanAwstx', 'id': '4gdMJYnopf2nEUcanAwstx', 'name': 'Anuv Jain', 'type': 'artist', 'uri': 'spotify:artist:4gdMJYnopf2nEUcanAwstx'}], 'external_urls': {'spotify': 'https://open.spotify.com/album/2SarxpD48O1DOiDIccyZ0W'}, 'total_tracks': 1}, 'artists': [{'external_urls': {'spotify': 'https://open.spotify.com/artist/4gdMJYnopf2nEUcanAwstx'}, 'href': 'https://api.spotify.com/v1/artists/4gdMJYnopf2nEUcanAwstx', 'id': '4gdMJYnopf2nEUcanAwstx', 'name': 'Anuv Jain', 'type': 'artist', 'uri': 'spotify:artist:4gdMJYnopf2nEUcanAwstx'}], 'disc_number': 1, 'track_number': 1, 'duration_ms': 217894, 'external_ids': {'isrc': 'INUM72303081'}, 'external_urls': {'spotify': 'https://open.spotify.com/track/0TL0LFcwIBF5eX7arDIKxY'}, 'href': 'https://api.spotify.com/v1/tracks/0TL0LFcwIBF5eX7arDIKxY', 'id': '0TL0LFcwIBF5eX7arDIKxY', 'name': 'Husn', 'popularity': 77, 'uri': 'spotify:track:0TL0LFcwIBF5eX7arDIKxY', 'is_local': False}, 'video_thumbnail': {'url': None}}, {'added_at': '2025-01-05T23:50:12Z', 'added_by': {'external_urls': {'spotify': 'https://open.spotify.com/user/31rfk2k7piikvhbd3z5v77jocmjm'}, 'href': 'https://api.spotify.com/v1/users/31rfk2k7piikvhbd3z5v77jocmjm', 'id': '31rfk2k7piikvhbd3z5v77jocmjm', 'type': 'user', 'uri': 'spotify:user:31rfk2k7piikvhbd3z5v77jocmjm'}, 'is_local': False, 'primary_color': None, 'track': {'preview_url': None, 'available_markets': ['AR', 'AU', 'AT', 'BE', 'BO', 'BR', 'BG', 'CA', 'CL', 'CO', 'CR', 'CY', 'CZ', 'DK', 'DO', 'DE', 'EC', 'EE', 'SV', 'FI', 'FR', 'GR', 'GT', 'HN', 'HK', 'HU', 'IS', 'IE', 'IT', 'LV', 'LT', 'LU', 'MY', 'MT', 'MX', 'NL', 'NZ', 'NI', 'NO', 'PA', 'PY', 'PE', 'PH', 'PL', 'PT', 'SG', 'SK', 'ES', 'SE', 'CH', 'TW', 'TR', 'UY', 'US', 'GB', 'AD', 'LI', 'MC', 'ID', 'JP', 'TH', 'VN', 'RO', 'IL', 'ZA', 'SA', 'AE', 'BH', 'QA', 'OM', 'KW', 'EG', 'MA', 'DZ', 'TN', 'LB', 'JO', 'PS', 'IN', 'BY', 'KZ', 'MD', 'UA', 'AL', 'BA', 'HR', 'ME', 'MK', 'RS', 'SI', 'KR', 'BD', 'PK', 'LK', 'GH', 'KE', 'NG', 'TZ', 'UG', 'AG', 'AM', 'BS', 'BB', 'BZ', 'BT', 'BW', 'BF', 'CV', 'CW', 'DM', 'FJ', 'GM', 'GE', 'GD', 'GW', 'GY', 'HT', 'JM', 'KI', 'LS', 'LR', 'MW', 'MV', 'ML', 'MH', 'FM', 'NA', 'NR', 'NE', 'PW', 'PG', 'PR', 'WS', 'SM', 'ST', 'SN', 'SC', 'SL', 'SB', 'KN', 'LC', 'VC', 'SR', 'TL', 'TO', 'TT', 'TV', 'VU', 'AZ', 'BN', 'BI', 'KH', 'CM', 'TD', 'KM', 'GQ', 'SZ', 'GA', 'GN', 'KG', 'LA', 'MO', 'MR', 'MN', 'NP', 'RW', 'TG', 'UZ', 'ZW', 'BJ', 'MG', 'MU', 'MZ', 'AO', 'CI', 'DJ', 'ZM', 'CD', 'CG', 'IQ', 'LY', 'TJ', 'VE', 'ET', 'XK'], 'explicit': False, 'type': 'track', 'episode': False, 'track': True, 'album': {'available_markets': ['AR', 'AU', 'AT', 'BE', 'BO', 'BR', 'BG', 'CA', 'CL', 'CO', 'CR', 'CY', 'CZ', 'DK', 'DO', 'DE', 'EC', 'EE', 'SV', 'FI', 'FR', 'GR', 'GT', 'HN', 'HK', 'HU', 'IS', 'IE', 'IT', 'LV', 'LT', 'LU', 'MY', 'MT', 'MX', 'NL', 'NZ', 'NI', 'NO', 'PA', 'PY', 'PE', 'PH', 'PL', 'PT', 'SG', 'SK', 'ES', 'SE', 'CH', 'TW', 'TR', 'UY', 'US', 'GB', 'AD', 'LI', 'MC', 'ID', 'JP', 'TH', 'VN', 'RO', 'IL', 'ZA', 'SA', 'AE', 'BH', 'QA', 'OM', 'KW', 'EG', 'MA', 'DZ', 'TN', 'LB', 'JO', 'PS', 'IN', 'BY', 'KZ', 'MD', 'UA', 'AL', 'BA', 'HR', 'ME', 'MK', 'RS', 'SI', 'KR', 'BD', 'PK', 'LK', 'GH', 'KE', 'NG', 'TZ', 'UG', 'AG', 'AM', 'BS', 'BB', 'BZ', 'BT', 'BW', 'BF', 'CV', 'CW', 'DM', 'FJ', 'GM', 'GE', 'GD', 'GW', 'GY', 'HT', 'JM', 'KI', 'LS', 'LR', 'MW', 'MV', 'ML', 'MH', 'FM', 'NA', 'NR', 'NE', 'PW', 'PG', 'PR', 'WS', 'SM', 'ST', 'SN', 'SC', 'SL', 'SB', 'KN', 'LC', 'VC', 'SR', 'TL', 'TO', 'TT', 'TV', 'VU', 'AZ', 'BN', 'BI', 'KH', 'CM', 'TD', 'KM', 'GQ', 'SZ', 'GA', 'GN', 'KG', 'LA', 'MO', 'MR', 'MN', 'NP', 'RW', 'TG', 'UZ', 'ZW', 'BJ', 'MG', 'MU', 'MZ', 'AO', 'CI', 'DJ', 'ZM', 'CD', 'CG', 'IQ', 'LY', 'TJ', 'VE', 'ET', 'XK'], 'type': 'album', 'album_type': 'album', 'href': 'https://api.spotify.com/v1/albums/0wkGNaTXbbxaD9QjvxlNGE', 'id': '0wkGNaTXbbxaD9QjvxlNGE', 'images': [{'height': 640, 'url': 'https://i.scdn.co/image/ab67616d0000b273e62ca3548e739bd85eebbbc9', 'width': 640}, {'height': 300, 'url': 'https://i.scdn.co/image/ab67616d00001e02e62ca3548e739bd85eebbbc9', 'width': 300}, {'height': 64, 'url': 'https://i.scdn.co/image/ab67616d00004851e62ca3548e739bd85eebbbc9', 'width': 64}], 'name': 'G.O.A.T.', 'release_date': '2020-07-29', 'release_date_precision': 'day', 'uri': 'spotify:album:0wkGNaTXbbxaD9QjvxlNGE', 'artists': [{'external_urls': {'spotify': 'https://open.spotify.com/artist/2FKWNmZWDBZR4dE5KX4plR'}, 'href': 'https://api.spotify.com/v1/artists/2FKWNmZWDBZR4dE5KX4plR', 'id': '2FKWNmZWDBZR4dE5KX4plR', 'name': 'Diljit Dosanjh', 'type': 'artist', 'uri': 'spotify:artist:2FKWNmZWDBZR4dE5KX4plR'}], 'external_urls': {'spotify': 'https://open.spotify.com/album/0wkGNaTXbbxaD9QjvxlNGE'}, 'total_tracks': 16}, 'artists': [{'external_urls': {'spotify': 'https://open.spotify.com/artist/2FKWNmZWDBZR4dE5KX4plR'}, 'href': 'https://api.spotify.com/v1/artists/2FKWNmZWDBZR4dE5KX4plR', 'id': '2FKWNmZWDBZR4dE5KX4plR', 'name': 'Diljit Dosanjh', 'type': 'artist', 'uri': 'spotify:artist:2FKWNmZWDBZR4dE5KX4plR'}], 'disc_number': 1, 'track_number': 2, 'duration_ms': 223636, 'external_ids': {'isrc': 'TCAEZ2071161'}, 'external_urls': {'spotify': 'https://open.spotify.com/track/46QbY78ha62aiu6gBgC7lS'}, 'href': 'https://api.spotify.com/v1/tracks/46QbY78ha62aiu6gBgC7lS', 'id': '46QbY78ha62aiu6gBgC7lS', 'name': 'G.O.A.T.', 'popularity': 72, 'uri': 'spotify:track:46QbY78ha62aiu6gBgC7lS', 'is_local': False}, 'video_thumbnail': {'url': None}}, {'added_at': '2025-01-05T23:50:14Z', 'added_by': {'external_urls': {'spotify': 'https://open.spotify.com/user/31rfk2k7piikvhbd3z5v77jocmjm'}, 'href': 'https://api.spotify.com/v1/users/31rfk2k7piikvhbd3z5v77jocmjm', 'id': '31rfk2k7piikvhbd3z5v77jocmjm', 'type': 'user', 'uri': 'spotify:user:31rfk2k7piikvhbd3z5v77jocmjm'}, 'is_local': False, 'primary_color': None, 'track': {'preview_url': None, 'available_markets': ['AR', 'AU', 'AT', 'BE', 'BO', 'BR', 'BG', 'CA', 'CL', 'CO', 'CR', 'CY', 'CZ', 'DK', 'DO', 'DE', 'EC', 'EE', 'SV', 'FI', 'FR', 'GR', 'GT', 'HN', 'HK', 'HU', 'IS', 'IE', 'IT', 'LV', 'LT', 'LU', 'MY', 'MT', 'MX', 'NL', 'NZ', 'NI', 'NO', 'PA', 'PY', 'PE', 'PH', 'PL', 'PT', 'SG', 'SK', 'ES', 'SE', 'CH', 'TW', 'TR', 'UY', 'US', 'GB', 'AD', 'LI', 'MC', 'ID', 'JP', 'TH', 'VN', 'RO', 'IL', 'ZA', 'SA', 'AE', 'BH', 'QA', 'OM', 'KW', 'EG', 'MA', 'DZ', 'TN', 'LB', 'JO', 'PS', 'IN', 'BY', 'KZ', 'MD', 'UA', 'AL', 'BA', 'HR', 'ME', 'MK', 'RS', 'SI', 'KR', 'BD', 'PK', 'LK', 'GH', 'KE', 'NG', 'TZ', 'UG', 'AG', 'AM', 'BS', 'BB', 'BZ', 'BT', 'BW', 'BF', 'CV', 'CW', 'DM', 'FJ', 'GM', 'GE', 'GD', 'GW', 'GY', 'HT', 'JM', 'KI', 'LS', 'LR', 'MW', 'MV', 'ML', 'MH', 'FM', 'NA', 'NR', 'NE', 'PW', 'PG', 'PR', 'WS', 'SM', 'ST', 'SN', 'SC', 'SL', 'SB', 'KN', 'LC', 'VC', 'SR', 'TL', 'TO', 'TT', 'TV', 'VU', 'AZ', 'BN', 'BI', 'KH', 'CM', 'TD', 'KM', 'GQ', 'SZ', 'GA', 'GN', 'KG', 'LA', 'MO', 'MR', 'MN', 'NP', 'RW', 'TG', 'UZ', 'ZW', 'BJ', 'MG', 'MU', 'MZ', 'AO', 'CI', 'DJ', 'ZM', 'CD', 'CG', 'IQ', 'LY', 'TJ', 'VE', 'ET', 'XK'], 'explicit': False, 'type': 'track', 'episode': False, 'track': True, 'album': {'available_markets': ['AR', 'AU', 'AT', 'BE', 'BO', 'BR', 'BG', 'CA', 'CL', 'CO', 'CR', 'CY', 'CZ', 'DK', 'DO', 'DE', 'EC', 'EE', 'SV', 'FI', 'FR', 'GR', 'GT', 'HN', 'HK', 'HU', 'IS', 'IE', 'IT', 'LV', 'LT', 'LU', 'MY', 'MT', 'MX', 'NL', 'NZ', 'NI', 'NO', 'PA', 'PY', 'PE', 'PH', 'PL', 'PT', 'SG', 'SK', 'ES', 'SE', 'CH', 'TW', 'TR', 'UY', 'US', 'GB', 'AD', 'LI', 'MC', 'ID', 'JP', 'TH', 'VN', 'RO', 'IL', 'ZA', 'SA', 'AE', 'BH', 'QA', 'OM', 'KW', 'EG', 'MA', 'DZ', 'TN', 'LB', 'JO', 'PS', 'IN', 'BY', 'KZ', 'MD', 'UA', 'AL', 'BA', 'HR', 'ME', 'MK', 'RS', 'SI', 'KR', 'BD', 'PK', 'LK', 'GH', 'KE', 'NG', 'TZ', 'UG', 'AG', 'AM', 'BS', 'BB', 'BZ', 'BT', 'BW', 'BF', 'CV', 'CW', 'DM', 'FJ', 'GM', 'GE', 'GD', 'GW', 'GY', 'HT', 'JM', 'KI', 'LS', 'LR', 'MW', 'MV', 'ML', 'MH', 'FM', 'NA', 'NR', 'NE', 'PW', 'PG', 'PR', 'WS', 'SM', 'ST', 'SN', 'SC', 'SL', 'SB', 'KN', 'LC', 'VC', 'SR', 'TL', 'TO', 'TT', 'TV', 'VU', 'AZ', 'BN', 'BI', 'KH', 'CM', 'TD', 'KM', 'GQ', 'SZ', 'GA', 'GN', 'KG', 'LA', 'MO', 'MR', 'MN', 'NP', 'RW', 'TG', 'UZ', 'ZW', 'BJ', 'MG', 'MU', 'MZ', 'AO', 'CI', 'DJ', 'ZM', 'CD', 'CG', 'IQ', 'LY', 'TJ', 'VE', 'ET', 'XK'], 'type': 'album', 'album_type': 'album', 'href': 'https://api.spotify.com/v1/albums/0wkGNaTXbbxaD9QjvxlNGE', 'id': '0wkGNaTXbbxaD9QjvxlNGE', 'images': [{'height': 640, 'url': 'https://i.scdn.co/image/ab67616d0000b273e62ca3548e739bd85eebbbc9', 'width': 640}, {'height': 300, 'url': 'https://i.scdn.co/image/ab67616d00001e02e62ca3548e739bd85eebbbc9', 'width': 300}, {'height': 64, 'url': 'https://i.scdn.co/image/ab67616d00004851e62ca3548e739bd85eebbbc9', 'width': 64}], 'name': 'G.O.A.T.', 'release_date': '2020-07-29', 'release_date_precision': 'day', 'uri': 'spotify:album:0wkGNaTXbbxaD9QjvxlNGE', 'artists': [{'external_urls': {'spotify': 'https://open.spotify.com/artist/2FKWNmZWDBZR4dE5KX4plR'}, 'href': 'https://api.spotify.com/v1/artists/2FKWNmZWDBZR4dE5KX4plR', 'id': '2FKWNmZWDBZR4dE5KX4plR', 'name': 'Diljit Dosanjh', 'type': 'artist', 'uri': 'spotify:artist:2FKWNmZWDBZR4dE5KX4plR'}], 'external_urls': {'spotify': 'https://open.spotify.com/album/0wkGNaTXbbxaD9QjvxlNGE'}, 'total_tracks': 16}, 'artists': [{'external_urls': {'spotify': 'https://open.spotify.com/artist/2FKWNmZWDBZR4dE5KX4plR'}, 'href': 'https://api.spotify.com/v1/artists/2FKWNmZWDBZR4dE5KX4plR', 'id': '2FKWNmZWDBZR4dE5KX4plR', 'name': 'Diljit Dosanjh', 'type': 'artist', 'uri': 'spotify:artist:2FKWNmZWDBZR4dE5KX4plR'}], 'disc_number': 1, 'track_number': 16, 'duration_ms': 213333, 'external_ids': {'isrc': 'TCAEZ2071477'}, 'external_urls': {'spotify': 'https://open.spotify.com/track/4XxfOvudrnBRdlgzEaq1sd'}, 'href': 'https://api.spotify.com/v1/tracks/4XxfOvudrnBRdlgzEaq1sd', 'id': '4XxfOvudrnBRdlgzEaq1sd', 'name': 'Born to Shine', 'popularity': 76, 'uri': 'spotify:track:4XxfOvudrnBRdlgzEaq1sd', 'is_local': False}, 'video_thumbnail': {'url': None}}], 'limit': 100, 'next': None, 'offset': 0, 'previous': None, 'total': 9}\n"
     ]
    }
   ],
   "source": [
    "data = sp.playlist_tracks(playlist_URI)\n",
    "\n",
    "print(data)"
   ]
  },
  {
   "cell_type": "markdown",
   "metadata": {},
   "source": [
    "## Convert data to JSON format"
   ]
  },
  {
   "cell_type": "code",
   "execution_count": 11,
   "metadata": {},
   "outputs": [],
   "source": [
    "# Convert data to JSON format\n",
    "json_data = json.dumps(data)\n",
    "\n",
    "# Save JSON data to a file\n",
    "with open('data.json', 'w') as f:\n",
    "    f.write(json_data)"
   ]
  },
  {
   "cell_type": "code",
   "execution_count": 12,
   "metadata": {},
   "outputs": [],
   "source": [
    "album_list = []\n",
    "for row in data['items']:\n",
    "    album_id = row['track']['album']['id']\n",
    "    album_name = row['track']['album']['name']\n",
    "    album_release_date = row['track']['album']['release_date']\n",
    "    album_total_tracks = row['track']['album']['total_tracks']\n",
    "    album_url = row['track']['album']['external_urls']['spotify']\n",
    "    album_element = {'album_id':album_id,'name':album_name,'release_date':album_release_date,\n",
    "                        'total_tracks':album_total_tracks,'url':album_url}\n",
    "    album_list.append(album_element)"
   ]
  },
  {
   "cell_type": "code",
   "execution_count": 13,
   "metadata": {},
   "outputs": [],
   "source": [
    "artist_list = []\n",
    "for row in data['items']:\n",
    "    for key, value in row.items():\n",
    "        if key == \"track\":\n",
    "            for artist in value['artists']:\n",
    "                artist_dict = {'artist_id':artist['id'], 'artist_name':artist['name'], 'external_url': artist['href']}\n",
    "                artist_list.append(artist_dict)"
   ]
  },
  {
   "cell_type": "code",
   "execution_count": 14,
   "metadata": {},
   "outputs": [],
   "source": [
    "song_list = []\n",
    "for row in data['items']:\n",
    "    song_id = row['track']['id']\n",
    "    song_name = row['track']['name']\n",
    "    song_duration = row['track']['duration_ms']\n",
    "    song_url = row['track']['external_urls']['spotify']\n",
    "    song_popularity = row['track']['popularity']\n",
    "    song_added = row['added_at']\n",
    "    album_id = row['track']['album']['id']\n",
    "    artist_id = row['track']['album']['artists'][0]['id']\n",
    "    song_element = {'song_id':song_id,'song_name':song_name,'duration_ms':song_duration,'url':song_url,\n",
    "                    'popularity':song_popularity,'song_added':song_added,'album_id':album_id,\n",
    "                    'artist_id':artist_id\n",
    "                   }\n",
    "    song_list.append(song_element)"
   ]
  },
  {
   "cell_type": "markdown",
   "metadata": {},
   "source": [
    "## Album table data frame"
   ]
  },
  {
   "cell_type": "code",
   "execution_count": 15,
   "metadata": {},
   "outputs": [],
   "source": [
    "album_df = pd.DataFrame.from_dict(album_list)\n",
    "# display(album_df)"
   ]
  },
  {
   "cell_type": "code",
   "execution_count": 16,
   "metadata": {},
   "outputs": [
    {
     "name": "stdout",
     "output_type": "stream",
     "text": [
      "<class 'pandas.core.frame.DataFrame'>\n",
      "RangeIndex: 9 entries, 0 to 8\n",
      "Data columns (total 5 columns):\n",
      " #   Column        Non-Null Count  Dtype \n",
      "---  ------        --------------  ----- \n",
      " 0   album_id      9 non-null      object\n",
      " 1   name          9 non-null      object\n",
      " 2   release_date  9 non-null      object\n",
      " 3   total_tracks  9 non-null      int64 \n",
      " 4   url           9 non-null      object\n",
      "dtypes: int64(1), object(4)\n",
      "memory usage: 492.0+ bytes\n"
     ]
    }
   ],
   "source": [
    "album_df.info()"
   ]
  },
  {
   "cell_type": "markdown",
   "metadata": {},
   "source": [
    "### Remove duplicates"
   ]
  },
  {
   "cell_type": "code",
   "execution_count": 17,
   "metadata": {},
   "outputs": [
    {
     "data": {
      "text/html": [
       "<div>\n",
       "<style scoped>\n",
       "    .dataframe tbody tr th:only-of-type {\n",
       "        vertical-align: middle;\n",
       "    }\n",
       "\n",
       "    .dataframe tbody tr th {\n",
       "        vertical-align: top;\n",
       "    }\n",
       "\n",
       "    .dataframe thead th {\n",
       "        text-align: right;\n",
       "    }\n",
       "</style>\n",
       "<table border=\"1\" class=\"dataframe\">\n",
       "  <thead>\n",
       "    <tr style=\"text-align: right;\">\n",
       "      <th></th>\n",
       "      <th>album_id</th>\n",
       "      <th>name</th>\n",
       "      <th>release_date</th>\n",
       "      <th>total_tracks</th>\n",
       "      <th>url</th>\n",
       "    </tr>\n",
       "  </thead>\n",
       "  <tbody>\n",
       "    <tr>\n",
       "      <th>0</th>\n",
       "      <td>1DzYor2sqKFs4Z6qcUl0V5</td>\n",
       "      <td>Jhoomo Re</td>\n",
       "      <td>2011-06-03</td>\n",
       "      <td>6</td>\n",
       "      <td>https://open.spotify.com/album/1DzYor2sqKFs4Z6...</td>\n",
       "    </tr>\n",
       "    <tr>\n",
       "      <th>1</th>\n",
       "      <td>3I3kZyHUtEA9Y59rJkxtk6</td>\n",
       "      <td>Sajni (From \"Laapataa Ladies\")</td>\n",
       "      <td>2024-02-12</td>\n",
       "      <td>1</td>\n",
       "      <td>https://open.spotify.com/album/3I3kZyHUtEA9Y59...</td>\n",
       "    </tr>\n",
       "    <tr>\n",
       "      <th>2</th>\n",
       "      <td>5ZbqiWukRFxq8zwllvK3YT</td>\n",
       "      <td>Sahiba</td>\n",
       "      <td>2024-11-15</td>\n",
       "      <td>1</td>\n",
       "      <td>https://open.spotify.com/album/5ZbqiWukRFxq8zw...</td>\n",
       "    </tr>\n",
       "    <tr>\n",
       "      <th>3</th>\n",
       "      <td>3oFkgvHruat7gfJMAJv6Wa</td>\n",
       "      <td>Trending Punjabi Hits</td>\n",
       "      <td>2024-07-25</td>\n",
       "      <td>20</td>\n",
       "      <td>https://open.spotify.com/album/3oFkgvHruat7gfJ...</td>\n",
       "    </tr>\n",
       "    <tr>\n",
       "      <th>4</th>\n",
       "      <td>1RNEvKlb3YovuiE8Gw5VOO</td>\n",
       "      <td>Laila Majnu (Original Motion Picture Soundtrack)</td>\n",
       "      <td>2018-10-30</td>\n",
       "      <td>11</td>\n",
       "      <td>https://open.spotify.com/album/1RNEvKlb3YovuiE...</td>\n",
       "    </tr>\n",
       "    <tr>\n",
       "      <th>5</th>\n",
       "      <td>0upenH0uUT36nBbVM5mQhW</td>\n",
       "      <td>Jo Tum Mere Ho</td>\n",
       "      <td>2024-08-02</td>\n",
       "      <td>1</td>\n",
       "      <td>https://open.spotify.com/album/0upenH0uUT36nBb...</td>\n",
       "    </tr>\n",
       "    <tr>\n",
       "      <th>6</th>\n",
       "      <td>2SarxpD48O1DOiDIccyZ0W</td>\n",
       "      <td>Husn</td>\n",
       "      <td>2023-12-01</td>\n",
       "      <td>1</td>\n",
       "      <td>https://open.spotify.com/album/2SarxpD48O1DOiD...</td>\n",
       "    </tr>\n",
       "    <tr>\n",
       "      <th>7</th>\n",
       "      <td>0wkGNaTXbbxaD9QjvxlNGE</td>\n",
       "      <td>G.O.A.T.</td>\n",
       "      <td>2020-07-29</td>\n",
       "      <td>16</td>\n",
       "      <td>https://open.spotify.com/album/0wkGNaTXbbxaD9Q...</td>\n",
       "    </tr>\n",
       "  </tbody>\n",
       "</table>\n",
       "</div>"
      ],
      "text/plain": [
       "                 album_id                                              name  \\\n",
       "0  1DzYor2sqKFs4Z6qcUl0V5                                         Jhoomo Re   \n",
       "1  3I3kZyHUtEA9Y59rJkxtk6                    Sajni (From \"Laapataa Ladies\")   \n",
       "2  5ZbqiWukRFxq8zwllvK3YT                                            Sahiba   \n",
       "3  3oFkgvHruat7gfJMAJv6Wa                             Trending Punjabi Hits   \n",
       "4  1RNEvKlb3YovuiE8Gw5VOO  Laila Majnu (Original Motion Picture Soundtrack)   \n",
       "5  0upenH0uUT36nBbVM5mQhW                                    Jo Tum Mere Ho   \n",
       "6  2SarxpD48O1DOiDIccyZ0W                                              Husn   \n",
       "7  0wkGNaTXbbxaD9QjvxlNGE                                          G.O.A.T.   \n",
       "\n",
       "  release_date  total_tracks  \\\n",
       "0   2011-06-03             6   \n",
       "1   2024-02-12             1   \n",
       "2   2024-11-15             1   \n",
       "3   2024-07-25            20   \n",
       "4   2018-10-30            11   \n",
       "5   2024-08-02             1   \n",
       "6   2023-12-01             1   \n",
       "7   2020-07-29            16   \n",
       "\n",
       "                                                 url  \n",
       "0  https://open.spotify.com/album/1DzYor2sqKFs4Z6...  \n",
       "1  https://open.spotify.com/album/3I3kZyHUtEA9Y59...  \n",
       "2  https://open.spotify.com/album/5ZbqiWukRFxq8zw...  \n",
       "3  https://open.spotify.com/album/3oFkgvHruat7gfJ...  \n",
       "4  https://open.spotify.com/album/1RNEvKlb3YovuiE...  \n",
       "5  https://open.spotify.com/album/0upenH0uUT36nBb...  \n",
       "6  https://open.spotify.com/album/2SarxpD48O1DOiD...  \n",
       "7  https://open.spotify.com/album/0wkGNaTXbbxaD9Q...  "
      ]
     },
     "metadata": {},
     "output_type": "display_data"
    }
   ],
   "source": [
    "album_df = album_df.drop_duplicates(subset=['album_id'])\n",
    "display(album_df)"
   ]
  },
  {
   "cell_type": "code",
   "execution_count": 18,
   "metadata": {},
   "outputs": [],
   "source": [
    "album_df['release_date'] = pd.to_datetime(album_df['release_date'])"
   ]
  },
  {
   "cell_type": "code",
   "execution_count": 19,
   "metadata": {},
   "outputs": [
    {
     "name": "stdout",
     "output_type": "stream",
     "text": [
      "<class 'pandas.core.frame.DataFrame'>\n",
      "Index: 8 entries, 0 to 7\n",
      "Data columns (total 5 columns):\n",
      " #   Column        Non-Null Count  Dtype         \n",
      "---  ------        --------------  -----         \n",
      " 0   album_id      8 non-null      object        \n",
      " 1   name          8 non-null      object        \n",
      " 2   release_date  8 non-null      datetime64[ns]\n",
      " 3   total_tracks  8 non-null      int64         \n",
      " 4   url           8 non-null      object        \n",
      "dtypes: datetime64[ns](1), int64(1), object(3)\n",
      "memory usage: 384.0+ bytes\n"
     ]
    }
   ],
   "source": [
    "album_df.info()"
   ]
  },
  {
   "cell_type": "markdown",
   "metadata": {},
   "source": [
    "## Artist DF"
   ]
  },
  {
   "cell_type": "code",
   "execution_count": 20,
   "metadata": {},
   "outputs": [],
   "source": [
    "artist_df = pd.DataFrame.from_dict(artist_list)"
   ]
  },
  {
   "cell_type": "code",
   "execution_count": 21,
   "metadata": {},
   "outputs": [],
   "source": [
    "artist_df = artist_df.drop_duplicates(subset=['artist_id'])"
   ]
  },
  {
   "cell_type": "code",
   "execution_count": 22,
   "metadata": {},
   "outputs": [
    {
     "data": {
      "text/html": [
       "<div>\n",
       "<style scoped>\n",
       "    .dataframe tbody tr th:only-of-type {\n",
       "        vertical-align: middle;\n",
       "    }\n",
       "\n",
       "    .dataframe tbody tr th {\n",
       "        vertical-align: top;\n",
       "    }\n",
       "\n",
       "    .dataframe thead th {\n",
       "        text-align: right;\n",
       "    }\n",
       "</style>\n",
       "<table border=\"1\" class=\"dataframe\">\n",
       "  <thead>\n",
       "    <tr style=\"text-align: right;\">\n",
       "      <th></th>\n",
       "      <th>artist_id</th>\n",
       "      <th>artist_name</th>\n",
       "      <th>external_url</th>\n",
       "    </tr>\n",
       "  </thead>\n",
       "  <tbody>\n",
       "    <tr>\n",
       "      <th>0</th>\n",
       "      <td>4oVMLzAqW6qhRpZWt8fNw4</td>\n",
       "      <td>Kailash Kher</td>\n",
       "      <td>https://api.spotify.com/v1/artists/4oVMLzAqW6q...</td>\n",
       "    </tr>\n",
       "    <tr>\n",
       "      <th>1</th>\n",
       "      <td>3PgeUFj9oHU4K4RGaITz2f</td>\n",
       "      <td>Paresh Kamath</td>\n",
       "      <td>https://api.spotify.com/v1/artists/3PgeUFj9oHU...</td>\n",
       "    </tr>\n",
       "    <tr>\n",
       "      <th>2</th>\n",
       "      <td>79sho4jpEGoCCC51KHnNSJ</td>\n",
       "      <td>Naresh Kamath</td>\n",
       "      <td>https://api.spotify.com/v1/artists/79sho4jpEGo...</td>\n",
       "    </tr>\n",
       "    <tr>\n",
       "      <th>3</th>\n",
       "      <td>3PpjqSKBer3obW6lDflOBx</td>\n",
       "      <td>Ram Sampath</td>\n",
       "      <td>https://api.spotify.com/v1/artists/3PpjqSKBer3...</td>\n",
       "    </tr>\n",
       "    <tr>\n",
       "      <th>4</th>\n",
       "      <td>4YRxDV8wJFPHPTeXepOstw</td>\n",
       "      <td>Arijit Singh</td>\n",
       "      <td>https://api.spotify.com/v1/artists/4YRxDV8wJFP...</td>\n",
       "    </tr>\n",
       "  </tbody>\n",
       "</table>\n",
       "</div>"
      ],
      "text/plain": [
       "                artist_id    artist_name  \\\n",
       "0  4oVMLzAqW6qhRpZWt8fNw4   Kailash Kher   \n",
       "1  3PgeUFj9oHU4K4RGaITz2f  Paresh Kamath   \n",
       "2  79sho4jpEGoCCC51KHnNSJ  Naresh Kamath   \n",
       "3  3PpjqSKBer3obW6lDflOBx    Ram Sampath   \n",
       "4  4YRxDV8wJFPHPTeXepOstw   Arijit Singh   \n",
       "\n",
       "                                        external_url  \n",
       "0  https://api.spotify.com/v1/artists/4oVMLzAqW6q...  \n",
       "1  https://api.spotify.com/v1/artists/3PgeUFj9oHU...  \n",
       "2  https://api.spotify.com/v1/artists/79sho4jpEGo...  \n",
       "3  https://api.spotify.com/v1/artists/3PpjqSKBer3...  \n",
       "4  https://api.spotify.com/v1/artists/4YRxDV8wJFP...  "
      ]
     },
     "execution_count": 22,
     "metadata": {},
     "output_type": "execute_result"
    }
   ],
   "source": [
    "artist_df.head()"
   ]
  },
  {
   "cell_type": "markdown",
   "metadata": {},
   "source": [
    "## Song Dataframe"
   ]
  },
  {
   "cell_type": "code",
   "execution_count": 23,
   "metadata": {},
   "outputs": [],
   "source": [
    "song_df = pd.DataFrame.from_dict(song_list)"
   ]
  },
  {
   "cell_type": "code",
   "execution_count": 24,
   "metadata": {},
   "outputs": [
    {
     "data": {
      "text/html": [
       "<div>\n",
       "<style scoped>\n",
       "    .dataframe tbody tr th:only-of-type {\n",
       "        vertical-align: middle;\n",
       "    }\n",
       "\n",
       "    .dataframe tbody tr th {\n",
       "        vertical-align: top;\n",
       "    }\n",
       "\n",
       "    .dataframe thead th {\n",
       "        text-align: right;\n",
       "    }\n",
       "</style>\n",
       "<table border=\"1\" class=\"dataframe\">\n",
       "  <thead>\n",
       "    <tr style=\"text-align: right;\">\n",
       "      <th></th>\n",
       "      <th>song_id</th>\n",
       "      <th>song_name</th>\n",
       "      <th>duration_ms</th>\n",
       "      <th>url</th>\n",
       "      <th>popularity</th>\n",
       "      <th>song_added</th>\n",
       "      <th>album_id</th>\n",
       "      <th>artist_id</th>\n",
       "    </tr>\n",
       "  </thead>\n",
       "  <tbody>\n",
       "    <tr>\n",
       "      <th>0</th>\n",
       "      <td>2vR23BjIzpLMtzsyKrM6Mb</td>\n",
       "      <td>Saiyyan</td>\n",
       "      <td>343906</td>\n",
       "      <td>https://open.spotify.com/track/2vR23BjIzpLMtzs...</td>\n",
       "      <td>70</td>\n",
       "      <td>2025-01-05T23:45:15Z</td>\n",
       "      <td>1DzYor2sqKFs4Z6qcUl0V5</td>\n",
       "      <td>7nEKS1t7i0pE29k2EiMSW6</td>\n",
       "    </tr>\n",
       "    <tr>\n",
       "      <th>1</th>\n",
       "      <td>5zCnGtCl5Ac5zlFHXaZmhy</td>\n",
       "      <td>Sajni (From \"Laapataa Ladies\")</td>\n",
       "      <td>170044</td>\n",
       "      <td>https://open.spotify.com/track/5zCnGtCl5Ac5zlF...</td>\n",
       "      <td>79</td>\n",
       "      <td>2025-01-05T23:45:21Z</td>\n",
       "      <td>3I3kZyHUtEA9Y59rJkxtk6</td>\n",
       "      <td>3PpjqSKBer3obW6lDflOBx</td>\n",
       "    </tr>\n",
       "    <tr>\n",
       "      <th>2</th>\n",
       "      <td>4ulroyDK6rN73nVkCkWhur</td>\n",
       "      <td>Sahiba</td>\n",
       "      <td>217148</td>\n",
       "      <td>https://open.spotify.com/track/4ulroyDK6rN73nV...</td>\n",
       "      <td>78</td>\n",
       "      <td>2025-01-05T23:45:39Z</td>\n",
       "      <td>5ZbqiWukRFxq8zwllvK3YT</td>\n",
       "      <td>74OaRjmyh0XyRZsQQQ5l7c</td>\n",
       "    </tr>\n",
       "    <tr>\n",
       "      <th>3</th>\n",
       "      <td>2ruImJNc00PYkuDumhV98V</td>\n",
       "      <td>Jannat</td>\n",
       "      <td>220500</td>\n",
       "      <td>https://open.spotify.com/track/2ruImJNc00PYkuD...</td>\n",
       "      <td>31</td>\n",
       "      <td>2025-01-05T23:46:23Z</td>\n",
       "      <td>3oFkgvHruat7gfJMAJv6Wa</td>\n",
       "      <td>0LyfQWJT6nXafLPZqxe9Of</td>\n",
       "    </tr>\n",
       "    <tr>\n",
       "      <th>4</th>\n",
       "      <td>5sUSbJo0brScvv48ZZ1HrQ</td>\n",
       "      <td>O Meri Laila</td>\n",
       "      <td>281856</td>\n",
       "      <td>https://open.spotify.com/track/5sUSbJo0brScvv4...</td>\n",
       "      <td>73</td>\n",
       "      <td>2025-01-05T23:46:54Z</td>\n",
       "      <td>1RNEvKlb3YovuiE8Gw5VOO</td>\n",
       "      <td>3Qol2r2jehhR5yKbmk1Dg4</td>\n",
       "    </tr>\n",
       "  </tbody>\n",
       "</table>\n",
       "</div>"
      ],
      "text/plain": [
       "                  song_id                       song_name  duration_ms  \\\n",
       "0  2vR23BjIzpLMtzsyKrM6Mb                         Saiyyan       343906   \n",
       "1  5zCnGtCl5Ac5zlFHXaZmhy  Sajni (From \"Laapataa Ladies\")       170044   \n",
       "2  4ulroyDK6rN73nVkCkWhur                          Sahiba       217148   \n",
       "3  2ruImJNc00PYkuDumhV98V                          Jannat       220500   \n",
       "4  5sUSbJo0brScvv48ZZ1HrQ                    O Meri Laila       281856   \n",
       "\n",
       "                                                 url  popularity  \\\n",
       "0  https://open.spotify.com/track/2vR23BjIzpLMtzs...          70   \n",
       "1  https://open.spotify.com/track/5zCnGtCl5Ac5zlF...          79   \n",
       "2  https://open.spotify.com/track/4ulroyDK6rN73nV...          78   \n",
       "3  https://open.spotify.com/track/2ruImJNc00PYkuD...          31   \n",
       "4  https://open.spotify.com/track/5sUSbJo0brScvv4...          73   \n",
       "\n",
       "             song_added                album_id               artist_id  \n",
       "0  2025-01-05T23:45:15Z  1DzYor2sqKFs4Z6qcUl0V5  7nEKS1t7i0pE29k2EiMSW6  \n",
       "1  2025-01-05T23:45:21Z  3I3kZyHUtEA9Y59rJkxtk6  3PpjqSKBer3obW6lDflOBx  \n",
       "2  2025-01-05T23:45:39Z  5ZbqiWukRFxq8zwllvK3YT  74OaRjmyh0XyRZsQQQ5l7c  \n",
       "3  2025-01-05T23:46:23Z  3oFkgvHruat7gfJMAJv6Wa  0LyfQWJT6nXafLPZqxe9Of  \n",
       "4  2025-01-05T23:46:54Z  1RNEvKlb3YovuiE8Gw5VOO  3Qol2r2jehhR5yKbmk1Dg4  "
      ]
     },
     "execution_count": 24,
     "metadata": {},
     "output_type": "execute_result"
    }
   ],
   "source": [
    "song_df.head()"
   ]
  },
  {
   "cell_type": "code",
   "execution_count": 25,
   "metadata": {},
   "outputs": [
    {
     "name": "stdout",
     "output_type": "stream",
     "text": [
      "<class 'pandas.core.frame.DataFrame'>\n",
      "RangeIndex: 9 entries, 0 to 8\n",
      "Data columns (total 8 columns):\n",
      " #   Column       Non-Null Count  Dtype \n",
      "---  ------       --------------  ----- \n",
      " 0   song_id      9 non-null      object\n",
      " 1   song_name    9 non-null      object\n",
      " 2   duration_ms  9 non-null      int64 \n",
      " 3   url          9 non-null      object\n",
      " 4   popularity   9 non-null      int64 \n",
      " 5   song_added   9 non-null      object\n",
      " 6   album_id     9 non-null      object\n",
      " 7   artist_id    9 non-null      object\n",
      "dtypes: int64(2), object(6)\n",
      "memory usage: 708.0+ bytes\n"
     ]
    }
   ],
   "source": [
    "song_df.info()"
   ]
  },
  {
   "cell_type": "code",
   "execution_count": 26,
   "metadata": {},
   "outputs": [],
   "source": [
    "song_df['song_added'] =  pd.to_datetime(song_df['song_added'])"
   ]
  },
  {
   "cell_type": "code",
   "execution_count": 27,
   "metadata": {},
   "outputs": [
    {
     "name": "stdout",
     "output_type": "stream",
     "text": [
      "<class 'pandas.core.frame.DataFrame'>\n",
      "RangeIndex: 9 entries, 0 to 8\n",
      "Data columns (total 8 columns):\n",
      " #   Column       Non-Null Count  Dtype              \n",
      "---  ------       --------------  -----              \n",
      " 0   song_id      9 non-null      object             \n",
      " 1   song_name    9 non-null      object             \n",
      " 2   duration_ms  9 non-null      int64              \n",
      " 3   url          9 non-null      object             \n",
      " 4   popularity   9 non-null      int64              \n",
      " 5   song_added   9 non-null      datetime64[ns, UTC]\n",
      " 6   album_id     9 non-null      object             \n",
      " 7   artist_id    9 non-null      object             \n",
      "dtypes: datetime64[ns, UTC](1), int64(2), object(5)\n",
      "memory usage: 708.0+ bytes\n"
     ]
    }
   ],
   "source": [
    "song_df.info()"
   ]
  }
 ],
 "metadata": {
  "kernelspec": {
   "display_name": "base",
   "language": "python",
   "name": "python3"
  },
  "language_info": {
   "codemirror_mode": {
    "name": "ipython",
    "version": 3
   },
   "file_extension": ".py",
   "mimetype": "text/x-python",
   "name": "python",
   "nbconvert_exporter": "python",
   "pygments_lexer": "ipython3",
   "version": "3.11.7"
  }
 },
 "nbformat": 4,
 "nbformat_minor": 2
}
